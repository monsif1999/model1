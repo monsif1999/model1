{
  "nbformat": 4,
  "nbformat_minor": 0,
  "metadata": {
    "accelerator": "GPU",
    "colab": {
      "name": "0-SnapCycle.ipynb",
      "provenance": [],
      "collapsed_sections": []
    },
    "kernelspec": {
      "display_name": "Python 3",
      "name": "python3"
    },
    "language_info": {
      "name": "python"
    }
  },
  "cells": [
    {
      "cell_type": "markdown",
      "source": [
        "Import Drive to import our image dataset"
      ],
      "metadata": {
        "id": "YWiTE5TvYdYJ"
      }
    },
    {
      "cell_type": "code",
      "metadata": {
        "colab": {
          "base_uri": "https://localhost:8080/"
        },
        "id": "vbW7aiWCrxzN",
        "outputId": "419383f7-1ed6-4e50-961b-542fe50c10a1"
      },
      "source": [
        "from google.colab import drive\n",
        "drive.mount('/content/drive')"
      ],
      "execution_count": null,
      "outputs": [
        {
          "output_type": "stream",
          "name": "stdout",
          "text": [
            "Mounted at /content/drive\n"
          ]
        }
      ]
    },
    {
      "cell_type": "markdown",
      "source": [
        "# **1.Data preprocessing**"
      ],
      "metadata": {
        "id": "8MfVCop4BLrY"
      }
    },
    {
      "cell_type": "code",
      "metadata": {
        "colab": {
          "base_uri": "https://localhost:8080/"
        },
        "id": "T6oRMx0qq4Xb",
        "outputId": "d2ffa0e6-68b5-4829-ae86-846bd1ffb573"
      },
      "source": [
        "#to split our dataset of images into training, validation and test sets\n",
        "pip install split-folders\n"
      ],
      "execution_count": null,
      "outputs": [
        {
          "name": "stdout",
          "output_type": "stream",
          "text": [
            "Collecting split-folders\n",
            "  Downloading split_folders-0.4.3-py3-none-any.whl (7.4 kB)\n",
            "Installing collected packages: split-folders\n",
            "Successfully installed split-folders-0.4.3\n"
          ]
        }
      ]
    },
    {
      "cell_type": "markdown",
      "metadata": {
        "id": "_RB6mPhlz1QC"
      },
      "source": [
        "lecture des donnees"
      ]
    },
    {
      "cell_type": "code",
      "metadata": {
        "colab": {
          "base_uri": "https://localhost:8080/"
        },
        "id": "csqO9G2-axJt",
        "outputId": "4a09d4ac-f5f8-4ce6-ccc2-cde770e6003f"
      },
      "source": [
        "#!zip -d \"/content/drive/My Drive/data/dataset.zip\" \"__MACOSX*\"\n"
      ],
      "execution_count": null,
      "outputs": [
        {
          "name": "stdout",
          "output_type": "stream",
          "text": [
            "\tzip warning: name not matched: __MACOSX*\n",
            "\n",
            "zip error: Nothing to do! (/content/drive/My Drive/data/dataset.zip)\n"
          ]
        }
      ]
    },
    {
      "cell_type": "code",
      "metadata": {
        "id": "GohKGdsJr_lA"
      },
      "source": [
        "#!unzip -uq \"/content/drive/My Drive/data/dataset.zip\" -d \"/content/drive/My Drive/data\"\n"
      ],
      "execution_count": null,
      "outputs": []
    },
    {
      "cell_type": "code",
      "metadata": {
        "id": "Nizq3HC2lHS8"
      },
      "source": [
        "dataset = \"/content/drive/My Drive/data/dataset\"\n",
        "output = \"/content/drive/My Drive/out\""
      ],
      "execution_count": null,
      "outputs": []
    },
    {
      "cell_type": "markdown",
      "metadata": {
        "id": "wRrM7vnA5wKL"
      },
      "source": [
        "Splitting dataset "
      ]
    },
    {
      "cell_type": "code",
      "metadata": {
        "colab": {
          "base_uri": "https://localhost:8080/"
        },
        "id": "2Gs1cFyPHqPm",
        "outputId": "8c6c03a3-cdea-4f4d-d4d1-d42a1f76f63c"
      },
      "source": [
        "import splitfolders  # or import split_folders\n",
        "\n",
        "# Split with a ratio. (80% training, 10% val, 10% test)\n",
        "# To only split into training and validation set, set a tuple to `ratio`, i.e, `(.8, .2)`.\n",
        "splitfolders.ratio(dataset, output=output, seed=1337, ratio=(.8, .1, .1), group_prefix=None) # default values\n",
        "\n",
        "# Split val/test with a fixed number of items e.g. 100 for each set.\n",
        "# To only split into training and validation set, use a single number to `fixed`, i.e., `10`.\n",
        "splitfolders.fixed(dataset, output=output, seed=1337, fixed=(100, 100), oversample=False, group_prefix=None) # default values"
      ],
      "execution_count": null,
      "outputs": [
        {
          "name": "stderr",
          "output_type": "stream",
          "text": [
            "Copying files: 2043 files [21:19,  1.60 files/s]\n",
            "Copying files: 2043 files [00:26, 76.98 files/s]\n"
          ]
        }
      ]
    },
    {
      "cell_type": "code",
      "metadata": {
        "id": "dEXST3hTkQnp"
      },
      "source": [
        "import numpy as np\n",
        "import pandas as pd\n",
        "import os\n",
        "import random, re, math\n",
        "import tensorflow as tf, tensorflow.keras.backend as K\n",
        "import keras\n",
        "#import tensorflow_addons as tfa\n",
        "from tensorflow.keras.layers import Dense\n",
        "from tensorflow.keras.models import Model\n",
        "from tensorflow.keras import optimizers\n",
        "from tensorflow.keras.models import Sequential\n",
        "import tensorflow.keras.layers as L\n",
        "from tensorflow.keras.applications import ResNet152V2, InceptionResNetV2, InceptionV3, Xception, VGG19\n",
        "from tensorflow.keras.layers import Dense, GlobalAveragePooling2D,GlobalMaxPooling2D\n",
        "from tensorflow.keras.preprocessing.image import ImageDataGenerator\n",
        "from sklearn.model_selection import train_test_split\n",
        "from tensorflow.keras.callbacks import ReduceLROnPlateau , EarlyStopping , ModelCheckpoint , LearningRateScheduler\n",
        "from keras import regularizers\n",
        "\n",
        "import matplotlib.pyplot as plt\n",
        "\n",
        "#!pip install efficientnet\n",
        "#import efficientnet.tfkeras as efn"
      ],
      "execution_count": null,
      "outputs": []
    },
    {
      "cell_type": "code",
      "metadata": {
        "id": "2RPkySdqlOT7",
        "colab": {
          "base_uri": "https://localhost:8080/"
        },
        "outputId": "4b33a4bd-ac6e-443c-8560-c71a3210df50"
      },
      "source": [
        "AUTO = tf.data.experimental.AUTOTUNE\n",
        "try:\n",
        "    tpu = tf.distribute.cluster_resolver.TPUClusterResolver()\n",
        "    print('Running on TPU ', tpu.master())\n",
        "except ValueError:\n",
        "    tpu = None\n",
        "\n",
        "if tpu:\n",
        "    tf.config.experimental_connect_to_cluster(tpu)\n",
        "    tf.tpu.experimental.initialize_tpu_system(tpu)\n",
        "    strategy = tf.distribute.experimental.TPUStrategy(tpu)\n",
        "else:\n",
        "    strategy = tf.distribute.get_strategy()\n",
        "\n",
        "print(\"REPLICAS: \", strategy.num_replicas_in_sync)\n"
      ],
      "execution_count": null,
      "outputs": [
        {
          "output_type": "stream",
          "name": "stdout",
          "text": [
            "REPLICAS:  1\n"
          ]
        }
      ]
    },
    {
      "cell_type": "markdown",
      "metadata": {
        "id": "vCgq5_MFq-Ka"
      },
      "source": [
        "Creation of CSV files for training, val and test sets"
      ]
    },
    {
      "cell_type": "code",
      "metadata": {
        "id": "bghmZ3M-feon"
      },
      "source": [
        "import pandas as pd\n",
        "import os\n",
        "\n",
        "\n",
        "df_train = pd.DataFrame()\n",
        "\n",
        "filenames = []\n",
        "\n",
        "directory = []\n",
        "\n",
        "label = []\n",
        "TrainClass1Path = '/content/drive/MyDrive/out/train/1-PET'\n",
        "TrainClass2Path = '/content/drive/MyDrive/out/train/2-HDPE'\n",
        "\n",
        "for filename in os.listdir(TrainClass1Path):\n",
        "  filenames.append(TrainClass1Path+'/'+filename)\n",
        "  label.append(1)\n",
        "\n",
        "for filename in os.listdir(TrainClass2Path):\n",
        "  filenames.append(TrainClass2Path+'/'+filename)\n",
        "  label.append(0)\n",
        "\n",
        "df_train['images'] = filenames\n",
        "\n",
        "df_train['label'] = label\n"
      ],
      "execution_count": null,
      "outputs": []
    },
    {
      "cell_type": "code",
      "metadata": {
        "colab": {
          "base_uri": "https://localhost:8080/",
          "height": 206
        },
        "id": "hLxN4B3moM-k",
        "outputId": "20f3201c-6970-4d2d-e16b-2eb80edcce46"
      },
      "source": [
        "df_train.tail()"
      ],
      "execution_count": null,
      "outputs": [
        {
          "data": {
            "text/html": [
              "<div>\n",
              "<style scoped>\n",
              "    .dataframe tbody tr th:only-of-type {\n",
              "        vertical-align: middle;\n",
              "    }\n",
              "\n",
              "    .dataframe tbody tr th {\n",
              "        vertical-align: top;\n",
              "    }\n",
              "\n",
              "    .dataframe thead th {\n",
              "        text-align: right;\n",
              "    }\n",
              "</style>\n",
              "<table border=\"1\" class=\"dataframe\">\n",
              "  <thead>\n",
              "    <tr style=\"text-align: right;\">\n",
              "      <th></th>\n",
              "      <th>images</th>\n",
              "      <th>label</th>\n",
              "    </tr>\n",
              "  </thead>\n",
              "  <tbody>\n",
              "    <tr>\n",
              "      <th>1638</th>\n",
              "      <td>/content/drive/MyDrive/out/train/2-HDPE/HDPEM5...</td>\n",
              "      <td>0</td>\n",
              "    </tr>\n",
              "    <tr>\n",
              "      <th>1639</th>\n",
              "      <td>/content/drive/MyDrive/out/train/2-HDPE/HDPEM8...</td>\n",
              "      <td>0</td>\n",
              "    </tr>\n",
              "    <tr>\n",
              "      <th>1640</th>\n",
              "      <td>/content/drive/MyDrive/out/train/2-HDPE/HDPEM9...</td>\n",
              "      <td>0</td>\n",
              "    </tr>\n",
              "    <tr>\n",
              "      <th>1641</th>\n",
              "      <td>/content/drive/MyDrive/out/train/2-HDPE/HDPEM4...</td>\n",
              "      <td>0</td>\n",
              "    </tr>\n",
              "    <tr>\n",
              "      <th>1642</th>\n",
              "      <td>/content/drive/MyDrive/out/train/2-HDPE/HDPEM6...</td>\n",
              "      <td>0</td>\n",
              "    </tr>\n",
              "  </tbody>\n",
              "</table>\n",
              "</div>"
            ],
            "text/plain": [
              "                                                 images  label\n",
              "1638  /content/drive/MyDrive/out/train/2-HDPE/HDPEM5...      0\n",
              "1639  /content/drive/MyDrive/out/train/2-HDPE/HDPEM8...      0\n",
              "1640  /content/drive/MyDrive/out/train/2-HDPE/HDPEM9...      0\n",
              "1641  /content/drive/MyDrive/out/train/2-HDPE/HDPEM4...      0\n",
              "1642  /content/drive/MyDrive/out/train/2-HDPE/HDPEM6...      0"
            ]
          },
          "execution_count": 12,
          "metadata": {},
          "output_type": "execute_result"
        }
      ]
    },
    {
      "cell_type": "code",
      "metadata": {
        "id": "ZFkPtnYimnLL"
      },
      "source": [
        "df_train.to_csv('/content/drive/MyDrive/data/dataset/train.csv', index=False)"
      ],
      "execution_count": null,
      "outputs": []
    },
    {
      "cell_type": "code",
      "metadata": {
        "id": "j2gDAWygpakF"
      },
      "source": [
        "df_val = pd.DataFrame()\n",
        "\n",
        "filenames = []\n",
        "\n",
        "directory = []\n",
        "\n",
        "label = []\n",
        "\n",
        "ValClass1Path = '/content/drive/MyDrive/out/val/1-PET'\n",
        "ValClass2Path = '/content/drive/MyDrive/out/val/2-HDPE'\n",
        "\n",
        "for filename in os.listdir(ValClass1Path):\n",
        "  filenames.append(ValClass1Path+'/'+filename)\n",
        "  label.append(1)\n",
        "\n",
        "for filename in os.listdir(ValClass2Path):\n",
        "  filenames.append(ValClass2Path+'/'+filename)\n",
        "  label.append(0)\n",
        "\n",
        "df_val['images'] = filenames\n",
        "\n",
        "df_val['label'] = label"
      ],
      "execution_count": null,
      "outputs": []
    },
    {
      "cell_type": "code",
      "metadata": {
        "id": "Z30fXXKwqK-w"
      },
      "source": [
        "df_val.to_csv('/content/drive/MyDrive/data/dataset/val.csv', index=False)"
      ],
      "execution_count": null,
      "outputs": []
    },
    {
      "cell_type": "code",
      "metadata": {
        "id": "q3W_XrIsqLht"
      },
      "source": [
        "df_test = pd.DataFrame()\n",
        "\n",
        "filenames = []\n",
        "\n",
        "directory = []\n",
        "\n",
        "label = []\n",
        "\n",
        "TestClass1Path = '/content/drive/MyDrive/out/test/1-PET'\n",
        "TestClass2Path = '/content/drive/MyDrive/out/test/2-HDPE'\n",
        "\n",
        "for filename in os.listdir(TestClass1Path):\n",
        "  filenames.append(TestClass1Path+'/'+filename)\n",
        "  label.append(1)\n",
        "\n",
        "for filename in os.listdir(TestClass2Path):\n",
        "  filenames.append(TestClass2Path+'/'+filename)\n",
        "  label.append(0)\n",
        "\n",
        "df_test['images'] = filenames\n",
        "\n",
        "df_test['label'] = label"
      ],
      "execution_count": null,
      "outputs": []
    },
    {
      "cell_type": "code",
      "metadata": {
        "id": "w5d77yMuqhYe"
      },
      "source": [
        "df_test.to_csv('/content/drive/MyDrive/data/dataset/test.csv', index=False)"
      ],
      "execution_count": null,
      "outputs": []
    },
    {
      "cell_type": "markdown",
      "metadata": {
        "id": "L0igPrJ0M0zH"
      },
      "source": [
        "## 2 Configuration de tpu"
      ]
    },
    {
      "cell_type": "code",
      "metadata": {
        "colab": {
          "base_uri": "https://localhost:8080/"
        },
        "id": "yvHi3vsXM0zH",
        "outputId": "9345eb72-881a-432e-d4a2-ad015cbb6b5a"
      },
      "source": [
        "AUTO = tf.data.experimental.AUTOTUNE\n",
        "try:\n",
        "    tpu = tf.distribute.cluster_resolver.TPUClusterResolver()\n",
        "    print('Running on TPU ', tpu.master())\n",
        "except ValueError:\n",
        "    tpu = None\n",
        "\n",
        "if tpu:\n",
        "    tf.config.experimental_connect_to_cluster(tpu)\n",
        "    tf.tpu.experimental.initialize_tpu_system(tpu)\n",
        "    strategy = tf.distribute.experimental.TPUStrategy(tpu)\n",
        "else:\n",
        "    strategy = tf.distribute.get_strategy()\n",
        "\n",
        "print(\"REPLICAS: \", strategy.num_replicas_in_sync)\n"
      ],
      "execution_count": null,
      "outputs": [
        {
          "output_type": "stream",
          "name": "stdout",
          "text": [
            "REPLICAS:  1\n"
          ]
        }
      ]
    },
    {
      "cell_type": "markdown",
      "metadata": {
        "id": "0OqeygqgM0zN"
      },
      "source": [
        "## 3 Hyperparamètres"
      ]
    },
    {
      "cell_type": "code",
      "metadata": {
        "id": "gPvO6R8XM0zN"
      },
      "source": [
        "SEED = 42\n",
        "BATCH_SIZE = 4 * strategy.num_replicas_in_sync\n",
        "SIZE = [224,224]\n",
        "AUG_BATCH=BATCH_SIZE\n",
        "GLOBAL_BATCH_SIZE=BATCH_SIZE\n",
        "IMAGE_SIZE=[224,224]\n",
        "img_size=224\n",
        "IMG_SIZE=224\n",
        "nb_classes=2\n",
        "NB_CLASSES=2\n",
        "LR = 0.0008\n",
        "WEIGHT_DECAY = 0\n",
        "EPOCHS = 200\n",
        "WARMUP = 50\n",
        "TTA = 4"
      ],
      "execution_count": null,
      "outputs": []
    },
    {
      "cell_type": "code",
      "metadata": {
        "id": "WwSmN8WAZlxX"
      },
      "source": [
        "df_train = pd.read_csv('/content/drive/MyDrive/data/dataset/train.csv')  \n",
        "df_val = pd.read_csv('/content/drive/MyDrive/data/dataset/val.csv')  \n",
        "df_test = pd.read_csv('/content/drive/MyDrive/data/dataset/test.csv')  \n"
      ],
      "execution_count": null,
      "outputs": []
    },
    {
      "cell_type": "code",
      "metadata": {
        "colab": {
          "base_uri": "https://localhost:8080/"
        },
        "id": "0Mr71IEgNIev",
        "outputId": "b037f8ee-e201-4652-b642-5b33a8a3b4fe"
      },
      "source": [
        "#df_test.images.values\n"
      ],
      "execution_count": null,
      "outputs": [
        {
          "data": {
            "text/plain": [
              "array(['/content/drive/MyDrive/out/test/1-PET/0225095415.jpg',\n",
              "       '/content/drive/MyDrive/out/test/1-PET/0224013809.jpg',\n",
              "       '/content/drive/MyDrive/out/test/1-PET/image2020-02-18 00_19_50.134814.jpg',\n",
              "       '/content/drive/MyDrive/out/test/1-PET/2020-02-04 04_27_58.938566.jpg',\n",
              "       '/content/drive/MyDrive/out/test/1-PET/0224124820.jpg',\n",
              "       '/content/drive/MyDrive/out/test/1-PET/0224022751.jpg',\n",
              "       '/content/drive/MyDrive/out/test/1-PET/2020-02-04 04_43_51.604403.jpg',\n",
              "       '/content/drive/MyDrive/out/test/1-PET/image2020-02-18 00_46_45.483896.jpg',\n",
              "       '/content/drive/MyDrive/out/test/1-PET/0217024149.jpg',\n",
              "       '/content/drive/MyDrive/out/test/1-PET/2020-02-04 04_26_06.133271.jpg',\n",
              "       '/content/drive/MyDrive/out/test/1-PET/image2020-02-18 00_46_05.497120.jpg',\n",
              "       '/content/drive/MyDrive/out/test/1-PET/image2020-02-18 00_21_19.754833.jpg',\n",
              "       '/content/drive/MyDrive/out/test/1-PET/image2020-02-18 00_06_24.221422.jpg',\n",
              "       '/content/drive/MyDrive/out/test/1-PET/0224125701.jpg',\n",
              "       '/content/drive/MyDrive/out/test/1-PET/image2020-02-18 00_39_28.943636.jpg',\n",
              "       '/content/drive/MyDrive/out/test/1-PET/0224021314.jpg',\n",
              "       '/content/drive/MyDrive/out/test/1-PET/image2020-02-18 00_39_40.415651.jpg',\n",
              "       '/content/drive/MyDrive/out/test/1-PET/0218100440.jpg',\n",
              "       '/content/drive/MyDrive/out/test/1-PET/0224012249.jpg',\n",
              "       '/content/drive/MyDrive/out/test/1-PET/image2020-02-18 00_54_26.234776.jpg',\n",
              "       '/content/drive/MyDrive/out/test/1-PET/0217024831.jpg',\n",
              "       '/content/drive/MyDrive/out/test/1-PET/2020-02-04 05_23_49.727559.jpg',\n",
              "       '/content/drive/MyDrive/out/test/1-PET/0218091144.jpg',\n",
              "       '/content/drive/MyDrive/out/test/1-PET/2020-02-04 04_49_18.029835.jpg',\n",
              "       '/content/drive/MyDrive/out/test/1-PET/image2020-02-18 00_37_28.007269.jpg',\n",
              "       '/content/drive/MyDrive/out/test/1-PET/2020-02-04 05_13_43.845349.jpg',\n",
              "       '/content/drive/MyDrive/out/test/1-PET/0224030607.jpg',\n",
              "       '/content/drive/MyDrive/out/test/1-PET/0218091738.jpg',\n",
              "       '/content/drive/MyDrive/out/test/1-PET/0217040728.jpg',\n",
              "       '/content/drive/MyDrive/out/test/1-PET/image2020-02-18 00_14_52.756836.jpg',\n",
              "       '/content/drive/MyDrive/out/test/1-PET/2020-02-04 04_29_31.553771.jpg',\n",
              "       '/content/drive/MyDrive/out/test/1-PET/0225092851.jpg',\n",
              "       '/content/drive/MyDrive/out/test/1-PET/2020-02-04 04_48_47.642143.jpg',\n",
              "       '/content/drive/MyDrive/out/test/1-PET/2020-02-04 04_58_00.199673.jpg',\n",
              "       '/content/drive/MyDrive/out/test/1-PET/0218091558.jpg',\n",
              "       '/content/drive/MyDrive/out/test/1-PET/0225094515.jpg',\n",
              "       '/content/drive/MyDrive/out/test/1-PET/0224012615.jpg',\n",
              "       '/content/drive/MyDrive/out/test/1-PET/image2020-02-18 00_22_33.329764.jpg',\n",
              "       '/content/drive/MyDrive/out/test/1-PET/0224020714.jpg',\n",
              "       '/content/drive/MyDrive/out/test/1-PET/2020-02-04 04_39_59.550244.jpg',\n",
              "       '/content/drive/MyDrive/out/test/1-PET/2020-02-04 04_40_43.466866.jpg',\n",
              "       '/content/drive/MyDrive/out/test/1-PET/image2020-02-18 00_41_10.284853.jpg',\n",
              "       '/content/drive/MyDrive/out/test/1-PET/0224125903.jpg',\n",
              "       '/content/drive/MyDrive/out/test/1-PET/image2020-02-18 01_28_16.950764.jpg',\n",
              "       '/content/drive/MyDrive/out/test/1-PET/2020-02-04 05_32_05.783142.jpg',\n",
              "       '/content/drive/MyDrive/out/test/1-PET/2020-02-04 05_27_57.176823.jpg',\n",
              "       '/content/drive/MyDrive/out/test/1-PET/0224022120.jpg',\n",
              "       '/content/drive/MyDrive/out/test/1-PET/image2020-02-18 00_27_09.054578.jpg',\n",
              "       '/content/drive/MyDrive/out/test/1-PET/image2020-02-18 00_21_01.424006.jpg',\n",
              "       '/content/drive/MyDrive/out/test/1-PET/0224011536.jpg',\n",
              "       '/content/drive/MyDrive/out/test/1-PET/0224014339.jpg',\n",
              "       '/content/drive/MyDrive/out/test/1-PET/0218100819.jpg',\n",
              "       '/content/drive/MyDrive/out/test/1-PET/2020-02-04 04_34_36.470310.jpg',\n",
              "       '/content/drive/MyDrive/out/test/1-PET/0224025212.jpg',\n",
              "       '/content/drive/MyDrive/out/test/1-PET/0225085403.jpg',\n",
              "       '/content/drive/MyDrive/out/test/1-PET/image2020-02-18 00_24_38.216355.jpg',\n",
              "       '/content/drive/MyDrive/out/test/1-PET/0217025326.jpg',\n",
              "       '/content/drive/MyDrive/out/test/1-PET/2020-02-04 05_19_14.290297.jpg',\n",
              "       '/content/drive/MyDrive/out/test/1-PET/image2020-02-18 00_21_36.270727.jpg',\n",
              "       '/content/drive/MyDrive/out/test/1-PET/0224022030.jpg',\n",
              "       '/content/drive/MyDrive/out/test/1-PET/image2020-02-18 00_03_03.860069.jpg',\n",
              "       '/content/drive/MyDrive/out/test/1-PET/image2020-02-18 00_21_39.049860.jpg',\n",
              "       '/content/drive/MyDrive/out/test/1-PET/image2020-02-18 00_51_16.813012.jpg',\n",
              "       '/content/drive/MyDrive/out/test/1-PET/0224030508.jpg',\n",
              "       '/content/drive/MyDrive/out/test/1-PET/image2020-02-18 00_34_04.726135.jpg',\n",
              "       '/content/drive/MyDrive/out/test/1-PET/0224025103.jpg',\n",
              "       '/content/drive/MyDrive/out/test/1-PET/2020-02-04 05_21_01.384874.jpg',\n",
              "       '/content/drive/MyDrive/out/test/1-PET/2020-02-04 05_34_27.434045.jpg',\n",
              "       '/content/drive/MyDrive/out/test/1-PET/0225091600.jpg',\n",
              "       '/content/drive/MyDrive/out/test/1-PET/0218091526.jpg',\n",
              "       '/content/drive/MyDrive/out/test/1-PET/image2020-02-18 00_36_25.463499.jpg',\n",
              "       '/content/drive/MyDrive/out/test/1-PET/0224030345.jpg',\n",
              "       '/content/drive/MyDrive/out/test/1-PET/image2020-02-18 01_29_08.564516.jpg',\n",
              "       '/content/drive/MyDrive/out/test/1-PET/image2020-02-18 00_23_51.192560.jpg',\n",
              "       '/content/drive/MyDrive/out/test/1-PET/0218100546.jpg',\n",
              "       '/content/drive/MyDrive/out/test/1-PET/0224124627.jpg',\n",
              "       '/content/drive/MyDrive/out/test/1-PET/0224025534.jpg',\n",
              "       '/content/drive/MyDrive/out/test/1-PET/image2020-02-18 00_40_18.331798.jpg',\n",
              "       '/content/drive/MyDrive/out/test/1-PET/image2020-02-18 00_29_30.318983.jpg',\n",
              "       '/content/drive/MyDrive/out/test/1-PET/2020-02-04 05_16_11.964422.jpg',\n",
              "       '/content/drive/MyDrive/out/test/1-PET/image2020-02-18 00_08_54.749692.jpg',\n",
              "       '/content/drive/MyDrive/out/test/1-PET/0224012817.jpg',\n",
              "       '/content/drive/MyDrive/out/test/1-PET/2020-02-04 05_33_44.205355.jpg',\n",
              "       '/content/drive/MyDrive/out/test/1-PET/0224021947.jpg',\n",
              "       '/content/drive/MyDrive/out/test/1-PET/0224030145.jpg',\n",
              "       '/content/drive/MyDrive/out/test/1-PET/image2020-02-18 00_42_30.220780.jpg',\n",
              "       '/content/drive/MyDrive/out/test/1-PET/image2020-02-18 00_19_31.102909.jpg',\n",
              "       '/content/drive/MyDrive/out/test/1-PET/0224025356.jpg',\n",
              "       '/content/drive/MyDrive/out/test/1-PET/2020-02-04 04_55_32.992243.jpg',\n",
              "       '/content/drive/MyDrive/out/test/1-PET/0224030000.jpg',\n",
              "       '/content/drive/MyDrive/out/test/1-PET/0224022547.jpg',\n",
              "       '/content/drive/MyDrive/out/test/1-PET/image2020-02-18 00_24_16.945347 - Copie.jpg',\n",
              "       '/content/drive/MyDrive/out/test/1-PET/image2020-02-18 00_15_09.262626.jpg',\n",
              "       '/content/drive/MyDrive/out/test/1-PET/0224011341.jpg',\n",
              "       '/content/drive/MyDrive/out/test/1-PET/image2020-02-18 00_01_51.990326.jpg',\n",
              "       '/content/drive/MyDrive/out/test/1-PET/2020-02-04 04_31_11.472020.jpg',\n",
              "       '/content/drive/MyDrive/out/test/1-PET/2020-02-04 04_27_08.077713.jpg',\n",
              "       '/content/drive/MyDrive/out/test/1-PET/2020-02-04 05_47_51.557960.jpg',\n",
              "       '/content/drive/MyDrive/out/test/1-PET/0224025552.jpg',\n",
              "       '/content/drive/MyDrive/out/test/1-PET/0225093225.jpg',\n",
              "       '/content/drive/MyDrive/out/test/1-PET/image2020-02-18 00_43_36.653313.jpg',\n",
              "       '/content/drive/MyDrive/out/test/1-PET/2020-02-04 04_48_24.119927.jpg',\n",
              "       '/content/drive/MyDrive/out/test/2-HDPE/HDPEM27.jpg',\n",
              "       '/content/drive/MyDrive/out/test/2-HDPE/HDPEM356.jpg',\n",
              "       '/content/drive/MyDrive/out/test/2-HDPE/HDPEM895.JPG',\n",
              "       '/content/drive/MyDrive/out/test/2-HDPE/HDPEM855.JPG',\n",
              "       '/content/drive/MyDrive/out/test/2-HDPE/HDPEM669.JPG',\n",
              "       '/content/drive/MyDrive/out/test/2-HDPE/HDPEM742.JPG',\n",
              "       '/content/drive/MyDrive/out/test/2-HDPE/HDPEM585.JPG',\n",
              "       '/content/drive/MyDrive/out/test/2-HDPE/HDPEM789.JPG',\n",
              "       '/content/drive/MyDrive/out/test/2-HDPE/HDPEM114.jpg',\n",
              "       '/content/drive/MyDrive/out/test/2-HDPE/HDPEM58.jpg',\n",
              "       '/content/drive/MyDrive/out/test/2-HDPE/HDPEM284.jpg',\n",
              "       '/content/drive/MyDrive/out/test/2-HDPE/HDPEM801.JPG',\n",
              "       '/content/drive/MyDrive/out/test/2-HDPE/HDPEM60.jpg',\n",
              "       '/content/drive/MyDrive/out/test/2-HDPE/HDPEM471.jpg',\n",
              "       '/content/drive/MyDrive/out/test/2-HDPE/HDPEM380.jpg',\n",
              "       '/content/drive/MyDrive/out/test/2-HDPE/HDPEM636.JPG',\n",
              "       '/content/drive/MyDrive/out/test/2-HDPE/HDPEM958.JPG',\n",
              "       '/content/drive/MyDrive/out/test/2-HDPE/HDPEM1,012.JPG',\n",
              "       '/content/drive/MyDrive/out/test/2-HDPE/HDPEM96.jpg',\n",
              "       '/content/drive/MyDrive/out/test/2-HDPE/HDPEM598.JPG',\n",
              "       '/content/drive/MyDrive/out/test/2-HDPE/HDPEM809.JPG',\n",
              "       '/content/drive/MyDrive/out/test/2-HDPE/HDPEM764.JPG',\n",
              "       '/content/drive/MyDrive/out/test/2-HDPE/HDPEM918.JPG',\n",
              "       '/content/drive/MyDrive/out/test/2-HDPE/HDPEM490.jpg',\n",
              "       '/content/drive/MyDrive/out/test/2-HDPE/HDPEM93.jpg',\n",
              "       '/content/drive/MyDrive/out/test/2-HDPE/HDPEM335.jpg',\n",
              "       '/content/drive/MyDrive/out/test/2-HDPE/HDPEM17.jpg',\n",
              "       '/content/drive/MyDrive/out/test/2-HDPE/HDPEM930.JPG',\n",
              "       '/content/drive/MyDrive/out/test/2-HDPE/HDPEM254.jpg',\n",
              "       '/content/drive/MyDrive/out/test/2-HDPE/HDPEM980.JPG',\n",
              "       '/content/drive/MyDrive/out/test/2-HDPE/HDPEM1,017.JPG',\n",
              "       '/content/drive/MyDrive/out/test/2-HDPE/HDPEM696.JPG',\n",
              "       '/content/drive/MyDrive/out/test/2-HDPE/HDPEM122.jpg',\n",
              "       '/content/drive/MyDrive/out/test/2-HDPE/HDPEM644.JPG',\n",
              "       '/content/drive/MyDrive/out/test/2-HDPE/HDPEM904.JPG',\n",
              "       '/content/drive/MyDrive/out/test/2-HDPE/HDPEM675.JPG',\n",
              "       '/content/drive/MyDrive/out/test/2-HDPE/HDPEM449.jpg',\n",
              "       '/content/drive/MyDrive/out/test/2-HDPE/HDPEM139.jpg',\n",
              "       '/content/drive/MyDrive/out/test/2-HDPE/HDPEM112.jpg',\n",
              "       '/content/drive/MyDrive/out/test/2-HDPE/HDPEM787.JPG',\n",
              "       '/content/drive/MyDrive/out/test/2-HDPE/HDPEM605.JPG',\n",
              "       '/content/drive/MyDrive/out/test/2-HDPE/HDPEM643.JPG',\n",
              "       '/content/drive/MyDrive/out/test/2-HDPE/HDPEM558.JPG',\n",
              "       '/content/drive/MyDrive/out/test/2-HDPE/HDPEM661.JPG',\n",
              "       '/content/drive/MyDrive/out/test/2-HDPE/HDPEM134.jpg',\n",
              "       '/content/drive/MyDrive/out/test/2-HDPE/HDPEM578.JPG',\n",
              "       '/content/drive/MyDrive/out/test/2-HDPE/HDPEM317.jpg',\n",
              "       '/content/drive/MyDrive/out/test/2-HDPE/HDPEM258.jpg',\n",
              "       '/content/drive/MyDrive/out/test/2-HDPE/HDPEM814.JPG',\n",
              "       '/content/drive/MyDrive/out/test/2-HDPE/HDPEM629.JPG',\n",
              "       '/content/drive/MyDrive/out/test/2-HDPE/HDPEM495.jpg',\n",
              "       '/content/drive/MyDrive/out/test/2-HDPE/HDPEM630.JPG',\n",
              "       '/content/drive/MyDrive/out/test/2-HDPE/HDPEM917.JPG',\n",
              "       '/content/drive/MyDrive/out/test/2-HDPE/HDPEM994.JPG',\n",
              "       '/content/drive/MyDrive/out/test/2-HDPE/HDPEM71.jpg',\n",
              "       '/content/drive/MyDrive/out/test/2-HDPE/HDPEM7.jpg',\n",
              "       '/content/drive/MyDrive/out/test/2-HDPE/HDPEM362.jpg',\n",
              "       '/content/drive/MyDrive/out/test/2-HDPE/HDPEM859.JPG',\n",
              "       '/content/drive/MyDrive/out/test/2-HDPE/HDPEM806.JPG',\n",
              "       '/content/drive/MyDrive/out/test/2-HDPE/HDPEM230.jpg',\n",
              "       '/content/drive/MyDrive/out/test/2-HDPE/HDPEM956.JPG',\n",
              "       '/content/drive/MyDrive/out/test/2-HDPE/HDPEM30.jpg',\n",
              "       '/content/drive/MyDrive/out/test/2-HDPE/HDPEM498.jpg',\n",
              "       '/content/drive/MyDrive/out/test/2-HDPE/HDPEM182.jpg',\n",
              "       '/content/drive/MyDrive/out/test/2-HDPE/HDPEM620.JPG',\n",
              "       '/content/drive/MyDrive/out/test/2-HDPE/HDPEM399.jpg',\n",
              "       '/content/drive/MyDrive/out/test/2-HDPE/HDPEM840.JPG',\n",
              "       '/content/drive/MyDrive/out/test/2-HDPE/HDPEM685.JPG',\n",
              "       '/content/drive/MyDrive/out/test/2-HDPE/HDPEM810.JPG',\n",
              "       '/content/drive/MyDrive/out/test/2-HDPE/HDPEM1,018.JPG',\n",
              "       '/content/drive/MyDrive/out/test/2-HDPE/HDPEM36.jpg',\n",
              "       '/content/drive/MyDrive/out/test/2-HDPE/HDPEM753.JPG',\n",
              "       '/content/drive/MyDrive/out/test/2-HDPE/HDPEM811.JPG',\n",
              "       '/content/drive/MyDrive/out/test/2-HDPE/HDPEM972.JPG',\n",
              "       '/content/drive/MyDrive/out/test/2-HDPE/HDPEM445.jpg',\n",
              "       '/content/drive/MyDrive/out/test/2-HDPE/HDPEM892.JPG',\n",
              "       '/content/drive/MyDrive/out/test/2-HDPE/HDPEM69.jpg',\n",
              "       '/content/drive/MyDrive/out/test/2-HDPE/HDPEM394.jpg',\n",
              "       '/content/drive/MyDrive/out/test/2-HDPE/HDPEM539.jpg',\n",
              "       '/content/drive/MyDrive/out/test/2-HDPE/HDPEM132.jpg',\n",
              "       '/content/drive/MyDrive/out/test/2-HDPE/HDPEM717.JPG',\n",
              "       '/content/drive/MyDrive/out/test/2-HDPE/HDPEM902.JPG',\n",
              "       '/content/drive/MyDrive/out/test/2-HDPE/HDPEM440.jpg',\n",
              "       '/content/drive/MyDrive/out/test/2-HDPE/HDPEM659.JPG',\n",
              "       '/content/drive/MyDrive/out/test/2-HDPE/HDPEM465.jpg',\n",
              "       '/content/drive/MyDrive/out/test/2-HDPE/HDPEM83.jpg',\n",
              "       '/content/drive/MyDrive/out/test/2-HDPE/HDPEM173.jpg',\n",
              "       '/content/drive/MyDrive/out/test/2-HDPE/HDPEM914.JPG',\n",
              "       '/content/drive/MyDrive/out/test/2-HDPE/HDPEM87.jpg',\n",
              "       '/content/drive/MyDrive/out/test/2-HDPE/HDPEM409.jpg',\n",
              "       '/content/drive/MyDrive/out/test/2-HDPE/HDPEM679.JPG',\n",
              "       '/content/drive/MyDrive/out/test/2-HDPE/HDPEM775.JPG',\n",
              "       '/content/drive/MyDrive/out/test/2-HDPE/HDPEM261.jpg',\n",
              "       '/content/drive/MyDrive/out/test/2-HDPE/HDPEM715.JPG',\n",
              "       '/content/drive/MyDrive/out/test/2-HDPE/HDPEM989.JPG',\n",
              "       '/content/drive/MyDrive/out/test/2-HDPE/HDPEM433.jpg',\n",
              "       '/content/drive/MyDrive/out/test/2-HDPE/HDPEM357.jpg',\n",
              "       '/content/drive/MyDrive/out/test/2-HDPE/HDPEM991.JPG',\n",
              "       '/content/drive/MyDrive/out/test/2-HDPE/HDPEM922.JPG',\n",
              "       '/content/drive/MyDrive/out/test/2-HDPE/HDPEM736.JPG',\n",
              "       '/content/drive/MyDrive/out/test/2-HDPE/HDPEM780.JPG',\n",
              "       '/content/drive/MyDrive/out/test/2-HDPE/HDPEM687.JPG',\n",
              "       '/content/drive/MyDrive/out/test/2-HDPE/HDPEM379.jpg',\n",
              "       '/content/drive/MyDrive/out/test/2-HDPE/HDPEM748.JPG'],\n",
              "      dtype=object)"
            ]
          },
          "execution_count": 8,
          "metadata": {},
          "output_type": "execute_result"
        }
      ]
    },
    {
      "cell_type": "markdown",
      "metadata": {
        "id": "5-6N2zDsM0zN"
      },
      "source": [
        "## 4. Prétraitement des données"
      ]
    },
    {
      "cell_type": "code",
      "metadata": {
        "id": "pexUunJxM0zO"
      },
      "source": [
        "def decode_image(filename, label=None, image_size=(img_size,img_size)):\n",
        "    bits = tf.io.read_file(filename)\n",
        "    image = tf.image.decode_jpeg(bits, channels=3) \n",
        "    image = tf.image.resize(image, image_size)\n",
        "    image = tf.cast(image, tf.float32)\n",
        "    image = tf.image.per_image_standardization(image)\n",
        "    if label is None:\n",
        "        return image\n",
        "    else:\n",
        "        return image, label\n",
        "    \n",
        "def preprocess_test(df,test=False):\n",
        "    paths = df_test.images.values\n",
        "    labels = df_test.label.values\n",
        "    if test==False:\n",
        "        return paths,labels\n",
        "    else:\n",
        "        return paths\n",
        "def preprocess(df,test=False):\n",
        "    paths = df_train.images.values\n",
        "    labels = df_train.label.values\n",
        "    if test==False:\n",
        "        return paths,labels\n",
        "    else:\n",
        "        return paths\n",
        "\n",
        "def preprocess_val(df,test=False):\n",
        "    paths = df_val.images.values\n",
        "    labels = df_val.label.values\n",
        "    if test==False:\n",
        "        return paths,labels\n",
        "    else:\n",
        "        return paths\n",
        "    \n",
        "def data_augment(image, label=None, seed=SEED):\n",
        "    image = tf.image.random_flip_left_right(image, seed=seed)\n",
        "    image = tf.image.random_flip_up_down(image, seed=seed)\n",
        "           \n",
        "    if label is None:\n",
        "        return image\n",
        "    else:\n",
        "        return image, label"
      ],
      "execution_count": null,
      "outputs": []
    },
    {
      "cell_type": "markdown",
      "metadata": {
        "id": "ADq0QfHIM0zO"
      },
      "source": [
        "## 5. Augmentation"
      ]
    },
    {
      "cell_type": "code",
      "metadata": {
        "id": "tT8UlY14M0zO"
      },
      "source": [
        "def get_mat(rotation, shear, height_zoom, width_zoom, height_shift, width_shift):\n",
        "    rotation = math.pi * rotation / 180.\n",
        "    shear = math.pi * shear / 180.\n",
        "\n",
        "    c1 = tf.math.cos(rotation)\n",
        "    s1 = tf.math.sin(rotation)\n",
        "    one = tf.constant([1],dtype='float32')\n",
        "    zero = tf.constant([0],dtype='float32')\n",
        "    rotation_matrix = tf.reshape( tf.concat([c1,s1,zero, -s1,c1,zero, zero,zero,one],axis=0),[3,3] )\n",
        "\n",
        "    c2 = tf.math.cos(shear)\n",
        "    s2 = tf.math.sin(shear)\n",
        "    \n",
        "    shear_matrix = tf.reshape( tf.concat([one,s2,zero, zero,c2,zero, zero,zero,one],axis=0),[3,3] )    \n",
        "    zoom_matrix = tf.reshape( tf.concat([one/height_zoom,zero,zero, zero,one/width_zoom,zero, zero,zero,one],axis=0),[3,3] )\n",
        "    shift_matrix = tf.reshape( tf.concat([one,zero,height_shift, zero,one,width_shift, zero,zero,one],axis=0),[3,3] )\n",
        "    \n",
        "    return K.dot(K.dot(rotation_matrix, shear_matrix), K.dot(zoom_matrix, shift_matrix))"
      ],
      "execution_count": null,
      "outputs": []
    },
    {
      "cell_type": "code",
      "metadata": {
        "id": "aR_MXx7XWYgf"
      },
      "source": [
        "def transform(image,label=None):\n",
        "    DIM = img_size\n",
        "    XDIM = DIM%2 \n",
        "    \n",
        "    rot = 15. * tf.random.normal([1],dtype='float32')\n",
        "    shr = 5. * tf.random.normal([1],dtype='float32') \n",
        "    h_zoom = 1.0 + tf.random.normal([1],dtype='float32')/10.\n",
        "    w_zoom = 1.0 + tf.random.normal([1],dtype='float32')/10.\n",
        "    h_shift = 8. * tf.random.normal([1],dtype='float32') \n",
        "    w_shift = 8. * tf.random.normal([1],dtype='float32') \n",
        "  \n",
        "    m = get_mat(rot,shr,h_zoom,w_zoom,h_shift,w_shift) \n",
        "\n",
        "    x = tf.repeat( tf.range(DIM//2,-DIM//2,-1), DIM )\n",
        "    y = tf.tile( tf.range(-DIM//2,DIM//2),[DIM] )\n",
        "    z = tf.ones([DIM*DIM],dtype='int32')\n",
        "    idx = tf.stack( [x,y,z] )\n",
        "    \n",
        "    idx2 = K.dot(m,tf.cast(idx,dtype='float32'))\n",
        "    idx2 = K.cast(idx2,dtype='int32')\n",
        "    idx2 = K.clip(idx2,-DIM//2+XDIM+1,DIM//2)\n",
        "              \n",
        "    idx3 = tf.stack( [DIM//2-idx2[0,], DIM//2-1+idx2[1,]] )\n",
        "    d = tf.gather_nd(image,tf.transpose(idx3))\n",
        "    \n",
        "    if label is None:\n",
        "        return tf.reshape(d,[DIM,DIM,3])\n",
        "    else:\n",
        "        return tf.reshape(d,[DIM,DIM,3]),label"
      ],
      "execution_count": null,
      "outputs": []
    },
    {
      "cell_type": "markdown",
      "metadata": {
        "id": "JjG1IZN9M0zQ"
      },
      "source": [
        "## 6.Création d'un générateur pour l'ensemble de données d'entraînement "
      ]
    },
    {
      "cell_type": "code",
      "metadata": {
        "id": "EB3oTwHFM0zQ"
      },
      "source": [
        "train_dataset = (tf.data.Dataset\n",
        "    .from_tensor_slices(preprocess(df_train))\n",
        "    .map(decode_image, num_parallel_calls=AUTO)\n",
        "    .map(data_augment, num_parallel_calls=AUTO)\n",
        "    .map(transform,num_parallel_calls=AUTO)\n",
        "    .repeat()\n",
        "    .shuffle(224)\n",
        "    .batch(BATCH_SIZE)\n",
        "    #.map(mixup)\n",
        "    #.map(cutmix)\n",
        "    .prefetch(AUTO)\n",
        "    )"
      ],
      "execution_count": null,
      "outputs": []
    },
    {
      "cell_type": "markdown",
      "metadata": {
        "id": "i_mQBo3sYfZ0"
      },
      "source": [
        "## 7. Création d'un générateur pour l'ensemble de données de validation"
      ]
    },
    {
      "cell_type": "code",
      "metadata": {
        "id": "aBkyd0hT8U6E"
      },
      "source": [
        "valid_dataset = (tf.data.Dataset\n",
        "    .from_tensor_slices(preprocess(df_val))\n",
        "    .map(decode_image, num_parallel_calls=AUTO)\n",
        "    .batch(BATCH_SIZE)\n",
        "    .prefetch(AUTO))\n"
      ],
      "execution_count": null,
      "outputs": []
    },
    {
      "cell_type": "markdown",
      "metadata": {
        "id": "ZVzp8HfxM0zR"
      },
      "source": [
        "## 7. Création d'un générateur pour l'ensemble de données de test"
      ]
    },
    {
      "cell_type": "code",
      "metadata": {
        "id": "u3F0ZPbIM0zR"
      },
      "source": [
        "test_dataset= (tf.data.Dataset\n",
        "    .from_tensor_slices(preprocess_test(df_test))\n",
        "    .map(decode_image, num_parallel_calls=AUTO)\n",
        "    .batch(BATCH_SIZE)\n",
        "    .cache()\n",
        "    .prefetch(AUTO))"
      ],
      "execution_count": null,
      "outputs": []
    },
    {
      "cell_type": "markdown",
      "metadata": {
        "id": "gvaegsfXM0zR"
      },
      "source": [
        "## 8. Fonction du taux d'apprentissage"
      ]
    },
    {
      "cell_type": "code",
      "metadata": {
        "colab": {
          "base_uri": "https://localhost:8080/",
          "height": 294
        },
        "id": "-WXWpx1pM0zR",
        "outputId": "e6303e61-ddb8-4a02-e213-00ea4de3e842"
      },
      "source": [
        "EPOCHS=25\n",
        "LR_START = 0.00001\n",
        "LR_MAX = 0.00005 * strategy.num_replicas_in_sync\n",
        "LR_MIN = 0.00001\n",
        "LR_RAMPUP_EPOCHS = 5\n",
        "LR_SUSTAIN_EPOCHS = 0\n",
        "LR_EXP_DECAY = .8\n",
        "\n",
        "def lrfn(epoch):\n",
        "    if epoch < LR_RAMPUP_EPOCHS:\n",
        "        lr = (LR_MAX - LR_START) / LR_RAMPUP_EPOCHS * epoch + LR_START\n",
        "    elif epoch < LR_RAMPUP_EPOCHS + LR_SUSTAIN_EPOCHS:\n",
        "        lr = LR_MAX\n",
        "    else:\n",
        "        lr = (LR_MAX - LR_MIN) * LR_EXP_DECAY**(epoch - LR_RAMPUP_EPOCHS - LR_SUSTAIN_EPOCHS) + LR_MIN\n",
        "    return lr\n",
        "    \n",
        "lr_callback = tf.keras.callbacks.LearningRateScheduler(lrfn, verbose=True)\n",
        "\n",
        "rng = [i for i in range(EPOCHS)]\n",
        "y = [lrfn(x) for x in rng]\n",
        "plt.plot(rng, y)\n",
        "print(\"Learning rate schedule: {:.3g} to {:.3g} to {:.3g}\".format(y[0], max(y), y[-1]))"
      ],
      "execution_count": null,
      "outputs": [
        {
          "output_type": "stream",
          "name": "stdout",
          "text": [
            "Learning rate schedule: 1e-05 to 5e-05 to 1.06e-05\n"
          ]
        },
        {
          "output_type": "display_data",
          "data": {
            "image/png": "[encoded data removed]",
            "text/plain": [
              "<Figure size 432x288 with 1 Axes>"
            ]
          },
          "metadata": {
            "needs_background": "light"
          }
        }
      ]
    },
    {
      "cell_type": "markdown",
      "metadata": {
        "id": "jY08IMfaM0zR"
      },
      "source": [
        "## 9. Fonction de perte(multi-class)\n",
        "for later, when we'll have the 7 types of plastic"
      ]
    },
    {
      "cell_type": "code",
      "metadata": {
        "id": "gju7i4QmM0zR"
      },
      "source": [
        "def categorical_focal_loss(gamma=2., alpha=.25):\n",
        "    def categorical_focal_loss_fixed(y_true, y_pred):\n",
        "        y_pred /= K.sum(y_pred, axis=-1, keepdims=True)\n",
        "        epsilon = K.epsilon()\n",
        "        y_pred = K.clip(y_pred, epsilon, 1. - epsilon)\n",
        "        y_true = tf.cast(y_true, tf.float32) \n",
        "        cross_entropy = -y_true * K.log(y_pred)\n",
        "        loss = alpha * K.pow(1 - y_pred, gamma) * cross_entropy\n",
        "        return K.sum(loss, axis=1)\n",
        "    return categorical_focal_loss_fixed"
      ],
      "execution_count": null,
      "outputs": []
    },
    {
      "cell_type": "markdown",
      "metadata": {
        "id": "QkQxzkKecmZZ"
      },
      "source": [
        "# **install models**"
      ]
    },
    {
      "cell_type": "code",
      "metadata": {
        "colab": {
          "base_uri": "https://localhost:8080/"
        },
        "id": "GTSNSYTIaVXe",
        "outputId": "bf6dec5e-4445-46fb-e0a4-7ee91d02b0b5"
      },
      "source": [
        "!pip install image-classifiers\n",
        "\n",
        "from classification_models.tfkeras import Classifiers"
      ],
      "execution_count": null,
      "outputs": [
        {
          "output_type": "stream",
          "name": "stdout",
          "text": [
            "Collecting image-classifiers\n",
            "  Downloading image_classifiers-1.0.0-py3-none-any.whl (19 kB)\n",
            "Collecting keras-applications<=1.0.8,>=1.0.7\n",
            "  Downloading Keras_Applications-1.0.8-py3-none-any.whl (50 kB)\n",
            "\u001b[K     |████████████████████████████████| 50 kB 4.5 MB/s \n",
            "\u001b[?25hRequirement already satisfied: numpy>=1.9.1 in /usr/local/lib/python3.7/dist-packages (from keras-applications<=1.0.8,>=1.0.7->image-classifiers) (1.19.5)\n",
            "Requirement already satisfied: h5py in /usr/local/lib/python3.7/dist-packages (from keras-applications<=1.0.8,>=1.0.7->image-classifiers) (3.1.0)\n",
            "Requirement already satisfied: cached-property in /usr/local/lib/python3.7/dist-packages (from h5py->keras-applications<=1.0.8,>=1.0.7->image-classifiers) (1.5.2)\n",
            "Installing collected packages: keras-applications, image-classifiers\n",
            "Successfully installed image-classifiers-1.0.0 keras-applications-1.0.8\n"
          ]
        }
      ]
    },
    {
      "cell_type": "code",
      "source": [
        "#from classification_models import Classifiers\n",
        "\n",
        "n_classes = 1\n",
        "\n",
        "resnet34, preprocess_input = Classifiers.get('resnet34')\n",
        "base_model = resnet34((224, 224, 3), weights='imagenet',include_top=False)\n",
        "x = GlobalAveragePooling2D()(base_model.output)\n",
        "#x = keras.layers.AveragePooling2D((7,7))(base_model.output)\n",
        "output = Dense(n_classes, activation='sigmoid')(x)\n",
        "model_resnet34 = keras.models.Model(inputs=[base_model.input], outputs=[output])\n",
        "model_resnet34.compile(loss='binary_crossentropy', optimizer='SGD', metrics=['accuracy'])\n",
        "\n"
      ],
      "metadata": {
        "id": "q0eBWVn4Eog3"
      },
      "execution_count": null,
      "outputs": []
    },
    {
      "cell_type": "code",
      "source": [
        "h2=model_resnet34.fit(\n",
        "    train_dataset,\n",
        "    steps_per_epoch=df_train.shape[0]//BATCH_SIZE,\n",
        "    validation_data=valid_dataset,\n",
        "\t  validation_steps=df_val.shape[0]//BATCH_SIZE,\n",
        "    callbacks=[lr_callback],\n",
        "    epochs=20)"
      ],
      "metadata": {
        "id": "xqArixcKIxXw",
        "colab": {
          "base_uri": "https://localhost:8080/"
        },
        "outputId": "a1317f4e-fdb5-4f5f-b540-cc33c1aa41d2"
      },
      "execution_count": null,
      "outputs": [
        {
          "output_type": "stream",
          "name": "stdout",
          "text": [
            "\n",
            "Epoch 00001: LearningRateScheduler setting learning rate to 1e-05.\n",
            "Epoch 1/20\n",
            "410/410 [==============================] - 219s 432ms/step - loss: 0.8727 - accuracy: 0.5591 - val_loss: 0.4794 - val_accuracy: 0.8990 - lr: 1.0000e-05\n",
            "\n",
            "Epoch 00002: LearningRateScheduler setting learning rate to 1.8000000000000004e-05.\n",
            "Epoch 2/20\n",
            "410/410 [==============================] - 54s 131ms/step - loss: 0.8070 - accuracy: 0.5488 - val_loss: 0.4512 - val_accuracy: 0.8510 - lr: 1.8000e-05\n",
            "\n",
            "Epoch 00003: LearningRateScheduler setting learning rate to 2.6000000000000002e-05.\n",
            "Epoch 3/20\n",
            "410/410 [==============================] - 54s 131ms/step - loss: 0.6878 - accuracy: 0.5982 - val_loss: 0.3944 - val_accuracy: 0.9038 - lr: 2.6000e-05\n",
            "\n",
            "Epoch 00004: LearningRateScheduler setting learning rate to 3.4000000000000007e-05.\n",
            "Epoch 4/20\n",
            "410/410 [==============================] - 54s 132ms/step - loss: 0.6269 - accuracy: 0.6445 - val_loss: 0.4572 - val_accuracy: 0.8510 - lr: 3.4000e-05\n",
            "\n",
            "Epoch 00005: LearningRateScheduler setting learning rate to 4.2000000000000004e-05.\n",
            "Epoch 5/20\n",
            "410/410 [==============================] - 54s 132ms/step - loss: 0.6072 - accuracy: 0.6671 - val_loss: 0.4602 - val_accuracy: 0.8413 - lr: 4.2000e-05\n",
            "\n",
            "Epoch 00006: LearningRateScheduler setting learning rate to 5e-05.\n",
            "Epoch 6/20\n",
            "410/410 [==============================] - 54s 132ms/step - loss: 0.5959 - accuracy: 0.6591 - val_loss: 0.4532 - val_accuracy: 0.8317 - lr: 5.0000e-05\n",
            "\n",
            "Epoch 00007: LearningRateScheduler setting learning rate to 4.2000000000000004e-05.\n",
            "Epoch 7/20\n",
            "410/410 [==============================] - 54s 131ms/step - loss: 0.5792 - accuracy: 0.6909 - val_loss: 0.4034 - val_accuracy: 0.9183 - lr: 4.2000e-05\n",
            "\n",
            "Epoch 00008: LearningRateScheduler setting learning rate to 3.5600000000000005e-05.\n",
            "Epoch 8/20\n",
            "410/410 [==============================] - 54s 132ms/step - loss: 0.5859 - accuracy: 0.6622 - val_loss: 0.3666 - val_accuracy: 0.9231 - lr: 3.5600e-05\n",
            "\n",
            "Epoch 00009: LearningRateScheduler setting learning rate to 3.0480000000000006e-05.\n",
            "Epoch 9/20\n",
            "410/410 [==============================] - 54s 132ms/step - loss: 0.5729 - accuracy: 0.6848 - val_loss: 0.3118 - val_accuracy: 0.9471 - lr: 3.0480e-05\n",
            "\n",
            "Epoch 00010: LearningRateScheduler setting learning rate to 2.6384000000000004e-05.\n",
            "Epoch 10/20\n",
            "410/410 [==============================] - 54s 132ms/step - loss: 0.5796 - accuracy: 0.6860 - val_loss: 0.3006 - val_accuracy: 0.9567 - lr: 2.6384e-05\n",
            "\n",
            "Epoch 00011: LearningRateScheduler setting learning rate to 2.3107200000000005e-05.\n",
            "Epoch 11/20\n",
            "410/410 [==============================] - 54s 132ms/step - loss: 0.5660 - accuracy: 0.6872 - val_loss: 0.2908 - val_accuracy: 0.9615 - lr: 2.3107e-05\n",
            "\n",
            "Epoch 00012: LearningRateScheduler setting learning rate to 2.0485760000000004e-05.\n",
            "Epoch 12/20\n",
            "410/410 [==============================] - 54s 132ms/step - loss: 0.5701 - accuracy: 0.6927 - val_loss: 0.2718 - val_accuracy: 0.9663 - lr: 2.0486e-05\n",
            "\n",
            "Epoch 00013: LearningRateScheduler setting learning rate to 1.8388608000000004e-05.\n",
            "Epoch 13/20\n",
            "410/410 [==============================] - 54s 132ms/step - loss: 0.5642 - accuracy: 0.6933 - val_loss: 0.2638 - val_accuracy: 0.9712 - lr: 1.8389e-05\n",
            "\n",
            "Epoch 00014: LearningRateScheduler setting learning rate to 1.6710886400000004e-05.\n",
            "Epoch 14/20\n",
            "410/410 [==============================] - 54s 132ms/step - loss: 0.5681 - accuracy: 0.6823 - val_loss: 0.2491 - val_accuracy: 0.9712 - lr: 1.6711e-05\n",
            "\n",
            "Epoch 00015: LearningRateScheduler setting learning rate to 1.5368709120000003e-05.\n",
            "Epoch 15/20\n",
            "410/410 [==============================] - 54s 132ms/step - loss: 0.5602 - accuracy: 0.6994 - val_loss: 0.2495 - val_accuracy: 0.9760 - lr: 1.5369e-05\n",
            "\n",
            "Epoch 00016: LearningRateScheduler setting learning rate to 1.4294967296000005e-05.\n",
            "Epoch 16/20\n",
            "410/410 [==============================] - 54s 131ms/step - loss: 0.5442 - accuracy: 0.7152 - val_loss: 0.2229 - val_accuracy: 0.9856 - lr: 1.4295e-05\n",
            "\n",
            "Epoch 00017: LearningRateScheduler setting learning rate to 1.3435973836800004e-05.\n",
            "Epoch 17/20\n",
            "410/410 [==============================] - 54s 131ms/step - loss: 0.5512 - accuracy: 0.7061 - val_loss: 0.2170 - val_accuracy: 0.9904 - lr: 1.3436e-05\n",
            "\n",
            "Epoch 00018: LearningRateScheduler setting learning rate to 1.2748779069440003e-05.\n",
            "Epoch 18/20\n",
            "410/410 [==============================] - 54s 131ms/step - loss: 0.5604 - accuracy: 0.6976 - val_loss: 0.2284 - val_accuracy: 0.9856 - lr: 1.2749e-05\n",
            "\n",
            "Epoch 00019: LearningRateScheduler setting learning rate to 1.2199023255552003e-05.\n",
            "Epoch 19/20\n",
            "410/410 [==============================] - 54s 131ms/step - loss: 0.5411 - accuracy: 0.7226 - val_loss: 0.2164 - val_accuracy: 0.9856 - lr: 1.2199e-05\n",
            "\n",
            "Epoch 00020: LearningRateScheduler setting learning rate to 1.1759218604441602e-05.\n",
            "Epoch 20/20\n",
            "410/410 [==============================] - 54s 132ms/step - loss: 0.5484 - accuracy: 0.6896 - val_loss: 0.2189 - val_accuracy: 0.9856 - lr: 1.1759e-05\n"
          ]
        }
      ]
    },
    {
      "cell_type": "code",
      "source": [
        "model_resnet34.summary()"
      ],
      "metadata": {
        "colab": {
          "base_uri": "https://localhost:8080/"
        },
        "id": "OSsqY7qNAn9e",
        "outputId": "1b83e57b-b127-4311-d14d-3b6944b692d4"
      },
      "execution_count": null,
      "outputs": [
        {
          "output_type": "stream",
          "name": "stdout",
          "text": [
            "Model: \"model_5\"\n",
            "__________________________________________________________________________________________________\n",
            " Layer (type)                   Output Shape         Param #     Connected to                     \n",
            "==================================================================================================\n",
            " data (InputLayer)              [(None, 224, 224, 3  0           []                               \n",
            "                                )]                                                                \n",
            "                                                                                                  \n",
            " bn_data (BatchNormalization)   (None, 224, 224, 3)  9           ['data[0][0]']                   \n",
            "                                                                                                  \n",
            " zero_padding2d_102 (ZeroPaddin  (None, 230, 230, 3)  0          ['bn_data[0][0]']                \n",
            " g2D)                                                                                             \n",
            "                                                                                                  \n",
            " conv0 (Conv2D)                 (None, 112, 112, 64  9408        ['zero_padding2d_102[0][0]']     \n",
            "                                )                                                                 \n",
            "                                                                                                  \n",
            " bn0 (BatchNormalization)       (None, 112, 112, 64  256         ['conv0[0][0]']                  \n",
            "                                )                                                                 \n",
            "                                                                                                  \n",
            " relu0 (Activation)             (None, 112, 112, 64  0           ['bn0[0][0]']                    \n",
            "                                )                                                                 \n",
            "                                                                                                  \n",
            " zero_padding2d_103 (ZeroPaddin  (None, 114, 114, 64  0          ['relu0[0][0]']                  \n",
            " g2D)                           )                                                                 \n",
            "                                                                                                  \n",
            " pooling0 (MaxPooling2D)        (None, 56, 56, 64)   0           ['zero_padding2d_103[0][0]']     \n",
            "                                                                                                  \n",
            " stage1_unit1_bn1 (BatchNormali  (None, 56, 56, 64)  256         ['pooling0[0][0]']               \n",
            " zation)                                                                                          \n",
            "                                                                                                  \n",
            " stage1_unit1_relu1 (Activation  (None, 56, 56, 64)  0           ['stage1_unit1_bn1[0][0]']       \n",
            " )                                                                                                \n",
            "                                                                                                  \n",
            " zero_padding2d_104 (ZeroPaddin  (None, 58, 58, 64)  0           ['stage1_unit1_relu1[0][0]']     \n",
            " g2D)                                                                                             \n",
            "                                                                                                  \n",
            " stage1_unit1_conv1 (Conv2D)    (None, 56, 56, 64)   36864       ['zero_padding2d_104[0][0]']     \n",
            "                                                                                                  \n",
            " stage1_unit1_bn2 (BatchNormali  (None, 56, 56, 64)  256         ['stage1_unit1_conv1[0][0]']     \n",
            " zation)                                                                                          \n",
            "                                                                                                  \n",
            " stage1_unit1_relu2 (Activation  (None, 56, 56, 64)  0           ['stage1_unit1_bn2[0][0]']       \n",
            " )                                                                                                \n",
            "                                                                                                  \n",
            " zero_padding2d_105 (ZeroPaddin  (None, 58, 58, 64)  0           ['stage1_unit1_relu2[0][0]']     \n",
            " g2D)                                                                                             \n",
            "                                                                                                  \n",
            " stage1_unit1_conv2 (Conv2D)    (None, 56, 56, 64)   36864       ['zero_padding2d_105[0][0]']     \n",
            "                                                                                                  \n",
            " stage1_unit1_sc (Conv2D)       (None, 56, 56, 64)   4096        ['stage1_unit1_relu1[0][0]']     \n",
            "                                                                                                  \n",
            " add_48 (Add)                   (None, 56, 56, 64)   0           ['stage1_unit1_conv2[0][0]',     \n",
            "                                                                  'stage1_unit1_sc[0][0]']        \n",
            "                                                                                                  \n",
            " stage1_unit2_bn1 (BatchNormali  (None, 56, 56, 64)  256         ['add_48[0][0]']                 \n",
            " zation)                                                                                          \n",
            "                                                                                                  \n",
            " stage1_unit2_relu1 (Activation  (None, 56, 56, 64)  0           ['stage1_unit2_bn1[0][0]']       \n",
            " )                                                                                                \n",
            "                                                                                                  \n",
            " zero_padding2d_106 (ZeroPaddin  (None, 58, 58, 64)  0           ['stage1_unit2_relu1[0][0]']     \n",
            " g2D)                                                                                             \n",
            "                                                                                                  \n",
            " stage1_unit2_conv1 (Conv2D)    (None, 56, 56, 64)   36864       ['zero_padding2d_106[0][0]']     \n",
            "                                                                                                  \n",
            " stage1_unit2_bn2 (BatchNormali  (None, 56, 56, 64)  256         ['stage1_unit2_conv1[0][0]']     \n",
            " zation)                                                                                          \n",
            "                                                                                                  \n",
            " stage1_unit2_relu2 (Activation  (None, 56, 56, 64)  0           ['stage1_unit2_bn2[0][0]']       \n",
            " )                                                                                                \n",
            "                                                                                                  \n",
            " zero_padding2d_107 (ZeroPaddin  (None, 58, 58, 64)  0           ['stage1_unit2_relu2[0][0]']     \n",
            " g2D)                                                                                             \n",
            "                                                                                                  \n",
            " stage1_unit2_conv2 (Conv2D)    (None, 56, 56, 64)   36864       ['zero_padding2d_107[0][0]']     \n",
            "                                                                                                  \n",
            " add_49 (Add)                   (None, 56, 56, 64)   0           ['stage1_unit2_conv2[0][0]',     \n",
            "                                                                  'add_48[0][0]']                 \n",
            "                                                                                                  \n",
            " stage1_unit3_bn1 (BatchNormali  (None, 56, 56, 64)  256         ['add_49[0][0]']                 \n",
            " zation)                                                                                          \n",
            "                                                                                                  \n",
            " stage1_unit3_relu1 (Activation  (None, 56, 56, 64)  0           ['stage1_unit3_bn1[0][0]']       \n",
            " )                                                                                                \n",
            "                                                                                                  \n",
            " zero_padding2d_108 (ZeroPaddin  (None, 58, 58, 64)  0           ['stage1_unit3_relu1[0][0]']     \n",
            " g2D)                                                                                             \n",
            "                                                                                                  \n",
            " stage1_unit3_conv1 (Conv2D)    (None, 56, 56, 64)   36864       ['zero_padding2d_108[0][0]']     \n",
            "                                                                                                  \n",
            " stage1_unit3_bn2 (BatchNormali  (None, 56, 56, 64)  256         ['stage1_unit3_conv1[0][0]']     \n",
            " zation)                                                                                          \n",
            "                                                                                                  \n",
            " stage1_unit3_relu2 (Activation  (None, 56, 56, 64)  0           ['stage1_unit3_bn2[0][0]']       \n",
            " )                                                                                                \n",
            "                                                                                                  \n",
            " zero_padding2d_109 (ZeroPaddin  (None, 58, 58, 64)  0           ['stage1_unit3_relu2[0][0]']     \n",
            " g2D)                                                                                             \n",
            "                                                                                                  \n",
            " stage1_unit3_conv2 (Conv2D)    (None, 56, 56, 64)   36864       ['zero_padding2d_109[0][0]']     \n",
            "                                                                                                  \n",
            " add_50 (Add)                   (None, 56, 56, 64)   0           ['stage1_unit3_conv2[0][0]',     \n",
            "                                                                  'add_49[0][0]']                 \n",
            "                                                                                                  \n",
            " stage2_unit1_bn1 (BatchNormali  (None, 56, 56, 64)  256         ['add_50[0][0]']                 \n",
            " zation)                                                                                          \n",
            "                                                                                                  \n",
            " stage2_unit1_relu1 (Activation  (None, 56, 56, 64)  0           ['stage2_unit1_bn1[0][0]']       \n",
            " )                                                                                                \n",
            "                                                                                                  \n",
            " zero_padding2d_110 (ZeroPaddin  (None, 58, 58, 64)  0           ['stage2_unit1_relu1[0][0]']     \n",
            " g2D)                                                                                             \n",
            "                                                                                                  \n",
            " stage2_unit1_conv1 (Conv2D)    (None, 28, 28, 128)  73728       ['zero_padding2d_110[0][0]']     \n",
            "                                                                                                  \n",
            " stage2_unit1_bn2 (BatchNormali  (None, 28, 28, 128)  512        ['stage2_unit1_conv1[0][0]']     \n",
            " zation)                                                                                          \n",
            "                                                                                                  \n",
            " stage2_unit1_relu2 (Activation  (None, 28, 28, 128)  0          ['stage2_unit1_bn2[0][0]']       \n",
            " )                                                                                                \n",
            "                                                                                                  \n",
            " zero_padding2d_111 (ZeroPaddin  (None, 30, 30, 128)  0          ['stage2_unit1_relu2[0][0]']     \n",
            " g2D)                                                                                             \n",
            "                                                                                                  \n",
            " stage2_unit1_conv2 (Conv2D)    (None, 28, 28, 128)  147456      ['zero_padding2d_111[0][0]']     \n",
            "                                                                                                  \n",
            " stage2_unit1_sc (Conv2D)       (None, 28, 28, 128)  8192        ['stage2_unit1_relu1[0][0]']     \n",
            "                                                                                                  \n",
            " add_51 (Add)                   (None, 28, 28, 128)  0           ['stage2_unit1_conv2[0][0]',     \n",
            "                                                                  'stage2_unit1_sc[0][0]']        \n",
            "                                                                                                  \n",
            " stage2_unit2_bn1 (BatchNormali  (None, 28, 28, 128)  512        ['add_51[0][0]']                 \n",
            " zation)                                                                                          \n",
            "                                                                                                  \n",
            " stage2_unit2_relu1 (Activation  (None, 28, 28, 128)  0          ['stage2_unit2_bn1[0][0]']       \n",
            " )                                                                                                \n",
            "                                                                                                  \n",
            " zero_padding2d_112 (ZeroPaddin  (None, 30, 30, 128)  0          ['stage2_unit2_relu1[0][0]']     \n",
            " g2D)                                                                                             \n",
            "                                                                                                  \n",
            " stage2_unit2_conv1 (Conv2D)    (None, 28, 28, 128)  147456      ['zero_padding2d_112[0][0]']     \n",
            "                                                                                                  \n",
            " stage2_unit2_bn2 (BatchNormali  (None, 28, 28, 128)  512        ['stage2_unit2_conv1[0][0]']     \n",
            " zation)                                                                                          \n",
            "                                                                                                  \n",
            " stage2_unit2_relu2 (Activation  (None, 28, 28, 128)  0          ['stage2_unit2_bn2[0][0]']       \n",
            " )                                                                                                \n",
            "                                                                                                  \n",
            " zero_padding2d_113 (ZeroPaddin  (None, 30, 30, 128)  0          ['stage2_unit2_relu2[0][0]']     \n",
            " g2D)                                                                                             \n",
            "                                                                                                  \n",
            " stage2_unit2_conv2 (Conv2D)    (None, 28, 28, 128)  147456      ['zero_padding2d_113[0][0]']     \n",
            "                                                                                                  \n",
            " add_52 (Add)                   (None, 28, 28, 128)  0           ['stage2_unit2_conv2[0][0]',     \n",
            "                                                                  'add_51[0][0]']                 \n",
            "                                                                                                  \n",
            " stage2_unit3_bn1 (BatchNormali  (None, 28, 28, 128)  512        ['add_52[0][0]']                 \n",
            " zation)                                                                                          \n",
            "                                                                                                  \n",
            " stage2_unit3_relu1 (Activation  (None, 28, 28, 128)  0          ['stage2_unit3_bn1[0][0]']       \n",
            " )                                                                                                \n",
            "                                                                                                  \n",
            " zero_padding2d_114 (ZeroPaddin  (None, 30, 30, 128)  0          ['stage2_unit3_relu1[0][0]']     \n",
            " g2D)                                                                                             \n",
            "                                                                                                  \n",
            " stage2_unit3_conv1 (Conv2D)    (None, 28, 28, 128)  147456      ['zero_padding2d_114[0][0]']     \n",
            "                                                                                                  \n",
            " stage2_unit3_bn2 (BatchNormali  (None, 28, 28, 128)  512        ['stage2_unit3_conv1[0][0]']     \n",
            " zation)                                                                                          \n",
            "                                                                                                  \n",
            " stage2_unit3_relu2 (Activation  (None, 28, 28, 128)  0          ['stage2_unit3_bn2[0][0]']       \n",
            " )                                                                                                \n",
            "                                                                                                  \n",
            " zero_padding2d_115 (ZeroPaddin  (None, 30, 30, 128)  0          ['stage2_unit3_relu2[0][0]']     \n",
            " g2D)                                                                                             \n",
            "                                                                                                  \n",
            " stage2_unit3_conv2 (Conv2D)    (None, 28, 28, 128)  147456      ['zero_padding2d_115[0][0]']     \n",
            "                                                                                                  \n",
            " add_53 (Add)                   (None, 28, 28, 128)  0           ['stage2_unit3_conv2[0][0]',     \n",
            "                                                                  'add_52[0][0]']                 \n",
            "                                                                                                  \n",
            " stage2_unit4_bn1 (BatchNormali  (None, 28, 28, 128)  512        ['add_53[0][0]']                 \n",
            " zation)                                                                                          \n",
            "                                                                                                  \n",
            " stage2_unit4_relu1 (Activation  (None, 28, 28, 128)  0          ['stage2_unit4_bn1[0][0]']       \n",
            " )                                                                                                \n",
            "                                                                                                  \n",
            " zero_padding2d_116 (ZeroPaddin  (None, 30, 30, 128)  0          ['stage2_unit4_relu1[0][0]']     \n",
            " g2D)                                                                                             \n",
            "                                                                                                  \n",
            " stage2_unit4_conv1 (Conv2D)    (None, 28, 28, 128)  147456      ['zero_padding2d_116[0][0]']     \n",
            "                                                                                                  \n",
            " stage2_unit4_bn2 (BatchNormali  (None, 28, 28, 128)  512        ['stage2_unit4_conv1[0][0]']     \n",
            " zation)                                                                                          \n",
            "                                                                                                  \n",
            " stage2_unit4_relu2 (Activation  (None, 28, 28, 128)  0          ['stage2_unit4_bn2[0][0]']       \n",
            " )                                                                                                \n",
            "                                                                                                  \n",
            " zero_padding2d_117 (ZeroPaddin  (None, 30, 30, 128)  0          ['stage2_unit4_relu2[0][0]']     \n",
            " g2D)                                                                                             \n",
            "                                                                                                  \n",
            " stage2_unit4_conv2 (Conv2D)    (None, 28, 28, 128)  147456      ['zero_padding2d_117[0][0]']     \n",
            "                                                                                                  \n",
            " add_54 (Add)                   (None, 28, 28, 128)  0           ['stage2_unit4_conv2[0][0]',     \n",
            "                                                                  'add_53[0][0]']                 \n",
            "                                                                                                  \n",
            " stage3_unit1_bn1 (BatchNormali  (None, 28, 28, 128)  512        ['add_54[0][0]']                 \n",
            " zation)                                                                                          \n",
            "                                                                                                  \n",
            " stage3_unit1_relu1 (Activation  (None, 28, 28, 128)  0          ['stage3_unit1_bn1[0][0]']       \n",
            " )                                                                                                \n",
            "                                                                                                  \n",
            " zero_padding2d_118 (ZeroPaddin  (None, 30, 30, 128)  0          ['stage3_unit1_relu1[0][0]']     \n",
            " g2D)                                                                                             \n",
            "                                                                                                  \n",
            " stage3_unit1_conv1 (Conv2D)    (None, 14, 14, 256)  294912      ['zero_padding2d_118[0][0]']     \n",
            "                                                                                                  \n",
            " stage3_unit1_bn2 (BatchNormali  (None, 14, 14, 256)  1024       ['stage3_unit1_conv1[0][0]']     \n",
            " zation)                                                                                          \n",
            "                                                                                                  \n",
            " stage3_unit1_relu2 (Activation  (None, 14, 14, 256)  0          ['stage3_unit1_bn2[0][0]']       \n",
            " )                                                                                                \n",
            "                                                                                                  \n",
            " zero_padding2d_119 (ZeroPaddin  (None, 16, 16, 256)  0          ['stage3_unit1_relu2[0][0]']     \n",
            " g2D)                                                                                             \n",
            "                                                                                                  \n",
            " stage3_unit1_conv2 (Conv2D)    (None, 14, 14, 256)  589824      ['zero_padding2d_119[0][0]']     \n",
            "                                                                                                  \n",
            " stage3_unit1_sc (Conv2D)       (None, 14, 14, 256)  32768       ['stage3_unit1_relu1[0][0]']     \n",
            "                                                                                                  \n",
            " add_55 (Add)                   (None, 14, 14, 256)  0           ['stage3_unit1_conv2[0][0]',     \n",
            "                                                                  'stage3_unit1_sc[0][0]']        \n",
            "                                                                                                  \n",
            " stage3_unit2_bn1 (BatchNormali  (None, 14, 14, 256)  1024       ['add_55[0][0]']                 \n",
            " zation)                                                                                          \n",
            "                                                                                                  \n",
            " stage3_unit2_relu1 (Activation  (None, 14, 14, 256)  0          ['stage3_unit2_bn1[0][0]']       \n",
            " )                                                                                                \n",
            "                                                                                                  \n",
            " zero_padding2d_120 (ZeroPaddin  (None, 16, 16, 256)  0          ['stage3_unit2_relu1[0][0]']     \n",
            " g2D)                                                                                             \n",
            "                                                                                                  \n",
            " stage3_unit2_conv1 (Conv2D)    (None, 14, 14, 256)  589824      ['zero_padding2d_120[0][0]']     \n",
            "                                                                                                  \n",
            " stage3_unit2_bn2 (BatchNormali  (None, 14, 14, 256)  1024       ['stage3_unit2_conv1[0][0]']     \n",
            " zation)                                                                                          \n",
            "                                                                                                  \n",
            " stage3_unit2_relu2 (Activation  (None, 14, 14, 256)  0          ['stage3_unit2_bn2[0][0]']       \n",
            " )                                                                                                \n",
            "                                                                                                  \n",
            " zero_padding2d_121 (ZeroPaddin  (None, 16, 16, 256)  0          ['stage3_unit2_relu2[0][0]']     \n",
            " g2D)                                                                                             \n",
            "                                                                                                  \n",
            " stage3_unit2_conv2 (Conv2D)    (None, 14, 14, 256)  589824      ['zero_padding2d_121[0][0]']     \n",
            "                                                                                                  \n",
            " add_56 (Add)                   (None, 14, 14, 256)  0           ['stage3_unit2_conv2[0][0]',     \n",
            "                                                                  'add_55[0][0]']                 \n",
            "                                                                                                  \n",
            " stage3_unit3_bn1 (BatchNormali  (None, 14, 14, 256)  1024       ['add_56[0][0]']                 \n",
            " zation)                                                                                          \n",
            "                                                                                                  \n",
            " stage3_unit3_relu1 (Activation  (None, 14, 14, 256)  0          ['stage3_unit3_bn1[0][0]']       \n",
            " )                                                                                                \n",
            "                                                                                                  \n",
            " zero_padding2d_122 (ZeroPaddin  (None, 16, 16, 256)  0          ['stage3_unit3_relu1[0][0]']     \n",
            " g2D)                                                                                             \n",
            "                                                                                                  \n",
            " stage3_unit3_conv1 (Conv2D)    (None, 14, 14, 256)  589824      ['zero_padding2d_122[0][0]']     \n",
            "                                                                                                  \n",
            " stage3_unit3_bn2 (BatchNormali  (None, 14, 14, 256)  1024       ['stage3_unit3_conv1[0][0]']     \n",
            " zation)                                                                                          \n",
            "                                                                                                  \n",
            " stage3_unit3_relu2 (Activation  (None, 14, 14, 256)  0          ['stage3_unit3_bn2[0][0]']       \n",
            " )                                                                                                \n",
            "                                                                                                  \n",
            " zero_padding2d_123 (ZeroPaddin  (None, 16, 16, 256)  0          ['stage3_unit3_relu2[0][0]']     \n",
            " g2D)                                                                                             \n",
            "                                                                                                  \n",
            " stage3_unit3_conv2 (Conv2D)    (None, 14, 14, 256)  589824      ['zero_padding2d_123[0][0]']     \n",
            "                                                                                                  \n",
            " add_57 (Add)                   (None, 14, 14, 256)  0           ['stage3_unit3_conv2[0][0]',     \n",
            "                                                                  'add_56[0][0]']                 \n",
            "                                                                                                  \n",
            " stage3_unit4_bn1 (BatchNormali  (None, 14, 14, 256)  1024       ['add_57[0][0]']                 \n",
            " zation)                                                                                          \n",
            "                                                                                                  \n",
            " stage3_unit4_relu1 (Activation  (None, 14, 14, 256)  0          ['stage3_unit4_bn1[0][0]']       \n",
            " )                                                                                                \n",
            "                                                                                                  \n",
            " zero_padding2d_124 (ZeroPaddin  (None, 16, 16, 256)  0          ['stage3_unit4_relu1[0][0]']     \n",
            " g2D)                                                                                             \n",
            "                                                                                                  \n",
            " stage3_unit4_conv1 (Conv2D)    (None, 14, 14, 256)  589824      ['zero_padding2d_124[0][0]']     \n",
            "                                                                                                  \n",
            " stage3_unit4_bn2 (BatchNormali  (None, 14, 14, 256)  1024       ['stage3_unit4_conv1[0][0]']     \n",
            " zation)                                                                                          \n",
            "                                                                                                  \n",
            " stage3_unit4_relu2 (Activation  (None, 14, 14, 256)  0          ['stage3_unit4_bn2[0][0]']       \n",
            " )                                                                                                \n",
            "                                                                                                  \n",
            " zero_padding2d_125 (ZeroPaddin  (None, 16, 16, 256)  0          ['stage3_unit4_relu2[0][0]']     \n",
            " g2D)                                                                                             \n",
            "                                                                                                  \n",
            " stage3_unit4_conv2 (Conv2D)    (None, 14, 14, 256)  589824      ['zero_padding2d_125[0][0]']     \n",
            "                                                                                                  \n",
            " add_58 (Add)                   (None, 14, 14, 256)  0           ['stage3_unit4_conv2[0][0]',     \n",
            "                                                                  'add_57[0][0]']                 \n",
            "                                                                                                  \n",
            " stage3_unit5_bn1 (BatchNormali  (None, 14, 14, 256)  1024       ['add_58[0][0]']                 \n",
            " zation)                                                                                          \n",
            "                                                                                                  \n",
            " stage3_unit5_relu1 (Activation  (None, 14, 14, 256)  0          ['stage3_unit5_bn1[0][0]']       \n",
            " )                                                                                                \n",
            "                                                                                                  \n",
            " zero_padding2d_126 (ZeroPaddin  (None, 16, 16, 256)  0          ['stage3_unit5_relu1[0][0]']     \n",
            " g2D)                                                                                             \n",
            "                                                                                                  \n",
            " stage3_unit5_conv1 (Conv2D)    (None, 14, 14, 256)  589824      ['zero_padding2d_126[0][0]']     \n",
            "                                                                                                  \n",
            " stage3_unit5_bn2 (BatchNormali  (None, 14, 14, 256)  1024       ['stage3_unit5_conv1[0][0]']     \n",
            " zation)                                                                                          \n",
            "                                                                                                  \n",
            " stage3_unit5_relu2 (Activation  (None, 14, 14, 256)  0          ['stage3_unit5_bn2[0][0]']       \n",
            " )                                                                                                \n",
            "                                                                                                  \n",
            " zero_padding2d_127 (ZeroPaddin  (None, 16, 16, 256)  0          ['stage3_unit5_relu2[0][0]']     \n",
            " g2D)                                                                                             \n",
            "                                                                                                  \n",
            " stage3_unit5_conv2 (Conv2D)    (None, 14, 14, 256)  589824      ['zero_padding2d_127[0][0]']     \n",
            "                                                                                                  \n",
            " add_59 (Add)                   (None, 14, 14, 256)  0           ['stage3_unit5_conv2[0][0]',     \n",
            "                                                                  'add_58[0][0]']                 \n",
            "                                                                                                  \n",
            " stage3_unit6_bn1 (BatchNormali  (None, 14, 14, 256)  1024       ['add_59[0][0]']                 \n",
            " zation)                                                                                          \n",
            "                                                                                                  \n",
            " stage3_unit6_relu1 (Activation  (None, 14, 14, 256)  0          ['stage3_unit6_bn1[0][0]']       \n",
            " )                                                                                                \n",
            "                                                                                                  \n",
            " zero_padding2d_128 (ZeroPaddin  (None, 16, 16, 256)  0          ['stage3_unit6_relu1[0][0]']     \n",
            " g2D)                                                                                             \n",
            "                                                                                                  \n",
            " stage3_unit6_conv1 (Conv2D)    (None, 14, 14, 256)  589824      ['zero_padding2d_128[0][0]']     \n",
            "                                                                                                  \n",
            " stage3_unit6_bn2 (BatchNormali  (None, 14, 14, 256)  1024       ['stage3_unit6_conv1[0][0]']     \n",
            " zation)                                                                                          \n",
            "                                                                                                  \n",
            " stage3_unit6_relu2 (Activation  (None, 14, 14, 256)  0          ['stage3_unit6_bn2[0][0]']       \n",
            " )                                                                                                \n",
            "                                                                                                  \n",
            " zero_padding2d_129 (ZeroPaddin  (None, 16, 16, 256)  0          ['stage3_unit6_relu2[0][0]']     \n",
            " g2D)                                                                                             \n",
            "                                                                                                  \n",
            " stage3_unit6_conv2 (Conv2D)    (None, 14, 14, 256)  589824      ['zero_padding2d_129[0][0]']     \n",
            "                                                                                                  \n",
            " add_60 (Add)                   (None, 14, 14, 256)  0           ['stage3_unit6_conv2[0][0]',     \n",
            "                                                                  'add_59[0][0]']                 \n",
            "                                                                                                  \n",
            " stage4_unit1_bn1 (BatchNormali  (None, 14, 14, 256)  1024       ['add_60[0][0]']                 \n",
            " zation)                                                                                          \n",
            "                                                                                                  \n",
            " stage4_unit1_relu1 (Activation  (None, 14, 14, 256)  0          ['stage4_unit1_bn1[0][0]']       \n",
            " )                                                                                                \n",
            "                                                                                                  \n",
            " zero_padding2d_130 (ZeroPaddin  (None, 16, 16, 256)  0          ['stage4_unit1_relu1[0][0]']     \n",
            " g2D)                                                                                             \n",
            "                                                                                                  \n",
            " stage4_unit1_conv1 (Conv2D)    (None, 7, 7, 512)    1179648     ['zero_padding2d_130[0][0]']     \n",
            "                                                                                                  \n",
            " stage4_unit1_bn2 (BatchNormali  (None, 7, 7, 512)   2048        ['stage4_unit1_conv1[0][0]']     \n",
            " zation)                                                                                          \n",
            "                                                                                                  \n",
            " stage4_unit1_relu2 (Activation  (None, 7, 7, 512)   0           ['stage4_unit1_bn2[0][0]']       \n",
            " )                                                                                                \n",
            "                                                                                                  \n",
            " zero_padding2d_131 (ZeroPaddin  (None, 9, 9, 512)   0           ['stage4_unit1_relu2[0][0]']     \n",
            " g2D)                                                                                             \n",
            "                                                                                                  \n",
            " stage4_unit1_conv2 (Conv2D)    (None, 7, 7, 512)    2359296     ['zero_padding2d_131[0][0]']     \n",
            "                                                                                                  \n",
            " stage4_unit1_sc (Conv2D)       (None, 7, 7, 512)    131072      ['stage4_unit1_relu1[0][0]']     \n",
            "                                                                                                  \n",
            " add_61 (Add)                   (None, 7, 7, 512)    0           ['stage4_unit1_conv2[0][0]',     \n",
            "                                                                  'stage4_unit1_sc[0][0]']        \n",
            "                                                                                                  \n",
            " stage4_unit2_bn1 (BatchNormali  (None, 7, 7, 512)   2048        ['add_61[0][0]']                 \n",
            " zation)                                                                                          \n",
            "                                                                                                  \n",
            " stage4_unit2_relu1 (Activation  (None, 7, 7, 512)   0           ['stage4_unit2_bn1[0][0]']       \n",
            " )                                                                                                \n",
            "                                                                                                  \n",
            " zero_padding2d_132 (ZeroPaddin  (None, 9, 9, 512)   0           ['stage4_unit2_relu1[0][0]']     \n",
            " g2D)                                                                                             \n",
            "                                                                                                  \n",
            " stage4_unit2_conv1 (Conv2D)    (None, 7, 7, 512)    2359296     ['zero_padding2d_132[0][0]']     \n",
            "                                                                                                  \n",
            " stage4_unit2_bn2 (BatchNormali  (None, 7, 7, 512)   2048        ['stage4_unit2_conv1[0][0]']     \n",
            " zation)                                                                                          \n",
            "                                                                                                  \n",
            " stage4_unit2_relu2 (Activation  (None, 7, 7, 512)   0           ['stage4_unit2_bn2[0][0]']       \n",
            " )                                                                                                \n",
            "                                                                                                  \n",
            " zero_padding2d_133 (ZeroPaddin  (None, 9, 9, 512)   0           ['stage4_unit2_relu2[0][0]']     \n",
            " g2D)                                                                                             \n",
            "                                                                                                  \n",
            " stage4_unit2_conv2 (Conv2D)    (None, 7, 7, 512)    2359296     ['zero_padding2d_133[0][0]']     \n",
            "                                                                                                  \n",
            " add_62 (Add)                   (None, 7, 7, 512)    0           ['stage4_unit2_conv2[0][0]',     \n",
            "                                                                  'add_61[0][0]']                 \n",
            "                                                                                                  \n",
            " stage4_unit3_bn1 (BatchNormali  (None, 7, 7, 512)   2048        ['add_62[0][0]']                 \n",
            " zation)                                                                                          \n",
            "                                                                                                  \n",
            " stage4_unit3_relu1 (Activation  (None, 7, 7, 512)   0           ['stage4_unit3_bn1[0][0]']       \n",
            " )                                                                                                \n",
            "                                                                                                  \n",
            " zero_padding2d_134 (ZeroPaddin  (None, 9, 9, 512)   0           ['stage4_unit3_relu1[0][0]']     \n",
            " g2D)                                                                                             \n",
            "                                                                                                  \n",
            " stage4_unit3_conv1 (Conv2D)    (None, 7, 7, 512)    2359296     ['zero_padding2d_134[0][0]']     \n",
            "                                                                                                  \n",
            " stage4_unit3_bn2 (BatchNormali  (None, 7, 7, 512)   2048        ['stage4_unit3_conv1[0][0]']     \n",
            " zation)                                                                                          \n",
            "                                                                                                  \n",
            " stage4_unit3_relu2 (Activation  (None, 7, 7, 512)   0           ['stage4_unit3_bn2[0][0]']       \n",
            " )                                                                                                \n",
            "                                                                                                  \n",
            " zero_padding2d_135 (ZeroPaddin  (None, 9, 9, 512)   0           ['stage4_unit3_relu2[0][0]']     \n",
            " g2D)                                                                                             \n",
            "                                                                                                  \n",
            " stage4_unit3_conv2 (Conv2D)    (None, 7, 7, 512)    2359296     ['zero_padding2d_135[0][0]']     \n",
            "                                                                                                  \n",
            " add_63 (Add)                   (None, 7, 7, 512)    0           ['stage4_unit3_conv2[0][0]',     \n",
            "                                                                  'add_62[0][0]']                 \n",
            "                                                                                                  \n",
            " bn1 (BatchNormalization)       (None, 7, 7, 512)    2048        ['add_63[0][0]']                 \n",
            "                                                                                                  \n",
            " relu1 (Activation)             (None, 7, 7, 512)    0           ['bn1[0][0]']                    \n",
            "                                                                                                  \n",
            " global_average_pooling2d_2 (Gl  (None, 512)         0           ['relu1[0][0]']                  \n",
            " obalAveragePooling2D)                                                                            \n",
            "                                                                                                  \n",
            " dense_1 (Dense)                (None, 1)            513         ['global_average_pooling2d_2[0][0\n",
            "                                                                 ]']                              \n",
            "                                                                                                  \n",
            "==================================================================================================\n",
            "Total params: 21,302,986\n",
            "Trainable params: 21,287,620\n",
            "Non-trainable params: 15,366\n",
            "__________________________________________________________________________________________________\n"
          ]
        }
      ]
    },
    {
      "cell_type": "code",
      "source": [
        "model_resnet34.save('model_resnet34.h5')\n",
        "print('Model Saved!')"
      ],
      "metadata": {
        "colab": {
          "base_uri": "https://localhost:8080/"
        },
        "id": "7onQs2BIANyL",
        "outputId": "ff2f2f3b-84ef-4f51-9ac0-2b8e0db4c287"
      },
      "execution_count": null,
      "outputs": [
        {
          "output_type": "stream",
          "name": "stderr",
          "text": [
            "/usr/local/lib/python3.7/dist-packages/keras/engine/functional.py:1410: CustomMaskWarning: Custom mask layers require a config and must override get_config. When loading, the custom mask layer must be passed to the custom_objects argument.\n",
            "  layer_config = serialize_layer_fn(layer)\n"
          ]
        },
        {
          "output_type": "stream",
          "name": "stdout",
          "text": [
            "Model Saved!\n"
          ]
        }
      ]
    },
    {
      "cell_type": "code",
      "source": [
        "import seaborn as sns\n",
        "sns.set()\n",
        "fig = plt.figure(0, (12, 4))\n",
        "\n",
        "ax = plt.subplot(1, 2, 1)\n",
        "sns.lineplot(h2.epoch,h2.history['val_accuracy'], label = 'val')\n",
        "plt.title('val_Accuracy')\n",
        "plt.tight_layout()\n",
        "\n",
        "ax = plt.subplot(1, 2, 2)\n",
        "sns.lineplot(h2.epoch,h2.history['val_loss'], label = 'val')\n",
        "plt.title('val_Loss')\n",
        "plt.tight_layout()\n",
        "plt.show()"
      ],
      "metadata": {
        "colab": {
          "base_uri": "https://localhost:8080/",
          "height": 382
        },
        "id": "kjl_Oo5SBWZb",
        "outputId": "8e9267a3-5623-4ea4-d139-58e49d0aa56d"
      },
      "execution_count": null,
      "outputs": [
        {
          "output_type": "stream",
          "name": "stderr",
          "text": [
            "/usr/local/lib/python3.7/dist-packages/seaborn/_decorators.py:43: FutureWarning: Pass the following variables as keyword args: x, y. From version 0.12, the only valid positional argument will be `data`, and passing other arguments without an explicit keyword will result in an error or misinterpretation.\n",
            "  FutureWarning\n",
            "/usr/local/lib/python3.7/dist-packages/seaborn/_decorators.py:43: FutureWarning: Pass the following variables as keyword args: x, y. From version 0.12, the only valid positional argument will be `data`, and passing other arguments without an explicit keyword will result in an error or misinterpretation.\n",
            "  FutureWarning\n"
          ]
        },
        {
          "output_type": "display_data",
          "data": {
            "image/png": "[encoded data removed]",
            "text/plain": [
              "<Figure size 864x288 with 2 Axes>"
            ]
          },
          "metadata": {}
        }
      ]
    },
    {
      "cell_type": "code",
      "source": [
        "import seaborn as sns\n",
        "sns.set()\n",
        "fig = plt.figure(0, (12, 4))\n",
        "\n",
        "ax = plt.subplot(1, 2, 1)\n",
        "sns.lineplot(h2.epoch,h2.history['accuracy'], label = 'train')\n",
        "plt.title('Accuracy')\n",
        "plt.tight_layout()\n",
        "\n",
        "ax = plt.subplot(1, 2, 2)\n",
        "sns.lineplot(h2.epoch,h2.history['loss'], label = 'train')\n",
        "plt.title('Loss')\n",
        "plt.tight_layout()\n",
        "plt.show()"
      ],
      "metadata": {
        "colab": {
          "base_uri": "https://localhost:8080/",
          "height": 382
        },
        "id": "r_-22IRZBkiD",
        "outputId": "e5f856e5-9c29-43d2-b2e0-1eb91ea14032"
      },
      "execution_count": null,
      "outputs": [
        {
          "output_type": "stream",
          "name": "stderr",
          "text": [
            "/usr/local/lib/python3.7/dist-packages/seaborn/_decorators.py:43: FutureWarning: Pass the following variables as keyword args: x, y. From version 0.12, the only valid positional argument will be `data`, and passing other arguments without an explicit keyword will result in an error or misinterpretation.\n",
            "  FutureWarning\n",
            "/usr/local/lib/python3.7/dist-packages/seaborn/_decorators.py:43: FutureWarning: Pass the following variables as keyword args: x, y. From version 0.12, the only valid positional argument will be `data`, and passing other arguments without an explicit keyword will result in an error or misinterpretation.\n",
            "  FutureWarning\n"
          ]
        },
        {
          "output_type": "display_data",
          "data": {
            "image/png": "[encoded data removed]",
            "text/plain": [
              "<Figure size 864x288 with 2 Axes>"
            ]
          },
          "metadata": {}
        }
      ]
    },
    {
      "cell_type": "code",
      "source": [
        "model_resnet34.evaluate(test_dataset)"
      ],
      "metadata": {
        "colab": {
          "base_uri": "https://localhost:8080/"
        },
        "id": "ZR6afyi8BvrU",
        "outputId": "ef1c3995-230d-4af0-9cd4-732981add0b8"
      },
      "execution_count": null,
      "outputs": [
        {
          "output_type": "stream",
          "name": "stdout",
          "text": [
            "52/52 [==============================] - 26s 494ms/step - loss: 0.3055 - accuracy: 0.9320\n"
          ]
        },
        {
          "output_type": "execute_result",
          "data": {
            "text/plain": [
              "[0.3054511547088623, 0.9320388436317444]"
            ]
          },
          "metadata": {},
          "execution_count": 34
        }
      ]
    },
    {
      "cell_type": "code",
      "source": [
        "from sklearn.metrics import confusion_matrix,classification_report\n",
        "classes=['PTE','PDHE']\n",
        "Y_pred = model_resnet34.predict(test_dataset)\n",
        "true_classes = df_test.label.values\n",
        "print('Confusion Matrix')\n",
        "y_pred=np.round(Y_pred)\n",
        "cm=confusion_matrix(true_classes,y_pred)\n",
        "cm"
      ],
      "metadata": {
        "colab": {
          "base_uri": "https://localhost:8080/"
        },
        "id": "O6XQVelhCDIB",
        "outputId": "9f23349c-e424-4650-e118-2b9244e6712c"
      },
      "execution_count": null,
      "outputs": [
        {
          "output_type": "stream",
          "name": "stdout",
          "text": [
            "Confusion Matrix\n"
          ]
        },
        {
          "output_type": "execute_result",
          "data": {
            "text/plain": [
              "array([[ 91,  13],\n",
              "       [  1, 101]])"
            ]
          },
          "metadata": {},
          "execution_count": 45
        }
      ]
    },
    {
      "cell_type": "code",
      "source": [
        "import seaborn as sns\n",
        "sns.set_style(\"darkgrid\")\n",
        "import itertools\n",
        "def plot_confusion_matrix(cm, classes, normalize=False, title='Confusion matrix', cmap=plt.cm.Oranges):\n",
        "    plt.figure(figsize=(6,6))\n",
        "    plt.imshow(cm, interpolation='nearest', cmap=cmap)\n",
        "    plt.title(title)\n",
        "    plt.colorbar()\n",
        "    tick_marks = np.arange(len(classes))\n",
        "    plt.xticks(tick_marks, classes, rotation=45)\n",
        "    plt.yticks(tick_marks, classes)\n",
        "    if normalize:\n",
        "        cm = cm.astype('float') / cm.sum(axis=1)[:, np.newaxis]\n",
        "        cm = np.around(cm, decimals=2)\n",
        "        cm[np.isnan(cm)] = 0.0\n",
        "        print(\"Normalized confusion matrix\")\n",
        "    else:\n",
        "        print('Confusion matrix, without normalization')\n",
        "    thresh = cm.max() / 2.\n",
        "    for i, j in itertools.product(range(cm.shape[0]), range(cm.shape[1])):\n",
        "        plt.text(j, i, cm[i, j],\n",
        "                 horizontalalignment=\"center\",\n",
        "                 color=\"white\" if cm[i, j] > thresh else \"black\")\n",
        "    plt.tight_layout()\n",
        "    plt.ylabel('True label')\n",
        "    plt.xlabel('Predicted label')"
      ],
      "metadata": {
        "id": "kWNtp7HxKi8B"
      },
      "execution_count": null,
      "outputs": []
    },
    {
      "cell_type": "code",
      "source": [
        "plot_confusion_matrix(cm,classes)"
      ],
      "metadata": {
        "colab": {
          "base_uri": "https://localhost:8080/",
          "height": 448
        },
        "id": "-1SAzjWUEuc1",
        "outputId": "f5744414-56ae-4cea-f987-de8c8711da71"
      },
      "execution_count": null,
      "outputs": [
        {
          "output_type": "stream",
          "name": "stdout",
          "text": [
            "Confusion matrix, without normalization\n"
          ]
        },
        {
          "output_type": "display_data",
          "data": {
            "image/png": "[encoded data removed]",
            "text/plain": [
              "<Figure size 432x432 with 2 Axes>"
            ]
          },
          "metadata": {}
        }
      ]
    },
    {
      "cell_type": "code",
      "metadata": {
        "id": "XgYO3pHciYV3"
      },
      "source": [
        "from tensorflow.keras.layers import Input\n",
        "\n",
        "\n",
        "def SeResNeXT101():\n",
        "    in_lay = Input(shape=(224,224,3))\n",
        "    SeResNeXT101, preprocess_input = Classifiers.get('seresnext101')\n",
        "    base_model = SeResNeXT101(input_shape=(224,224,3), weights='imagenet',include_top=False)\n",
        "    \n",
        "    pt_depth = 2048\n",
        "    pt_features = base_model(in_lay)\n",
        "    bn_features = BatchNormalization()(pt_features)\n",
        "\n",
        "    attn_layer = Conv2D(64, kernel_size = (1,1), padding = 'same', activation = 'relu')(Dropout(0.25)(bn_features))\n",
        "    attn_layer = Conv2D(16, kernel_size = (1,1), padding = 'same', activation = 'relu')(attn_layer)\n",
        "    attn_layer = Conv2D(8, kernel_size = (1,1), padding = 'same', activation = 'relu')(attn_layer)\n",
        "    attn_layer = Conv2D(1, \n",
        "                        kernel_size = (1,1), \n",
        "                        padding = 'valid', \n",
        "                        activation = 'sigmoid')(attn_layer)\n",
        "    # fan it out to all of the channels\n",
        "    up_c2_w = np.ones((1, 1, 1, pt_depth))\n",
        "    up_c2 = Conv2D(pt_depth, kernel_size = (1,1), padding = 'same', \n",
        "                   activation = 'linear', use_bias = False, weights = [up_c2_w])\n",
        "    up_c2.trainable = False\n",
        "    attn_layer = up_c2(attn_layer)\n",
        "\n",
        "    mask_features = multiply([attn_layer, bn_features])\n",
        "    gap_features = GlobalAveragePooling2D()(mask_features)\n",
        "    gap_mask = GlobalAveragePooling2D()(attn_layer)\n",
        "    # to account for missing values from the attention model\n",
        "    gap = Lambda(lambda x: x[0]/x[1], name = 'RescaleGAP')([gap_features, gap_mask])\n",
        "    gap_dr = Dropout(0.25)(gap)\n",
        "    dr_steps = Dropout(0.25)(Dense(128, activation = 'relu')(gap_dr))\n",
        "    out_layer = Dense(1, activation = 'sigmoid')(dr_steps)\n",
        "    retina_model = Model(inputs = [in_lay], outputs = [out_layer])\n",
        "    return retina_model"
      ],
      "execution_count": null,
      "outputs": []
    },
    {
      "cell_type": "code",
      "metadata": {
        "id": "pQhgo7N-n4e6"
      },
      "source": [
        "from keras.preprocessing.image import ImageDataGenerator\n",
        "from keras.models import Sequential, load_model\n",
        "from keras.layers import (Activation, Dropout, Flatten, Dense, GlobalMaxPooling2D,\n",
        "                          BatchNormalization, Input, Conv2D, GlobalAveragePooling2D,concatenate,Concatenate,multiply, LocallyConnected2D, Lambda)\n",
        "from keras.callbacks import ModelCheckpoint\n",
        "from keras import metrics\n",
        "from keras import backend as K\n",
        "import keras"
      ],
      "execution_count": null,
      "outputs": []
    },
    {
      "cell_type": "code",
      "metadata": {
        "id": "rz6chymbg4wL",
        "colab": {
          "base_uri": "https://localhost:8080/"
        },
        "outputId": "2f279c8e-c547-45d1-a861-a98567b15e53"
      },
      "source": [
        "with strategy.scope():\n",
        "  SRNXT101=SeResNeXT101()\n",
        "  SRNXT101.compile(\n",
        "                    optimizer=tf.optimizers.Adam(),\n",
        "                    loss=\"binary_crossentropy\",\n",
        "                    metrics=['accuracy',\n",
        "                            tf.keras.metrics.Recall(),\n",
        "                            tf.keras.metrics.Precision(),   \n",
        "                            tf.keras.metrics.AUC()\n",
        "                           ])"
      ],
      "execution_count": null,
      "outputs": [
        {
          "output_type": "stream",
          "name": "stdout",
          "text": [
            "Downloading data from https://github.com/qubvel/classification_models/releases/download/0.0.1/seresnext101_imagenet_1000_no_top.h5\n",
            "193003520/192995976 [==============================] - 23s 0us/step\n",
            "193011712/192995976 [==============================] - 23s 0us/step\n"
          ]
        }
      ]
    },
    {
      "cell_type": "markdown",
      "metadata": {
        "id": "nzJZbNpzpQEg"
      },
      "source": [
        "# Training"
      ]
    },
    {
      "cell_type": "code",
      "metadata": {
        "colab": {
          "base_uri": "https://localhost:8080/"
        },
        "id": "8BWAYXHEpo8m",
        "outputId": "cf4faa25-7018-42d2-f23a-9b491cf28467"
      },
      "source": [
        "h1=SRNXT101.fit(\n",
        "    train_dataset,\n",
        "    steps_per_epoch=df_train.shape[0]//BATCH_SIZE,\n",
        "    validation_data=valid_dataset,\n",
        "\t  validation_steps=df_val.shape[0]//BATCH_SIZE,\n",
        "    callbacks=[lr_callback],\n",
        "    epochs=30)"
      ],
      "execution_count": null,
      "outputs": [
        {
          "output_type": "stream",
          "name": "stdout",
          "text": [
            "\n",
            "Epoch 00001: LearningRateScheduler setting learning rate to 1e-05.\n",
            "Epoch 1/30\n",
            "410/410 [==============================] - 452s 803ms/step - loss: 0.6147 - accuracy: 0.6701 - recall: 0.7385 - precision: 0.6812 - auc: 0.7119 - val_loss: 0.1040 - val_accuracy: 1.0000 - val_recall: 1.0000 - val_precision: 1.0000 - val_auc: 0.0000e+00 - lr: 1.0000e-05\n",
            "\n",
            "Epoch 00002: LearningRateScheduler setting learning rate to 1.8000000000000004e-05.\n",
            "Epoch 2/30\n",
            "410/410 [==============================] - 315s 768ms/step - loss: 0.2961 - accuracy: 0.8902 - recall: 0.8897 - precision: 0.8919 - auc: 0.9547 - val_loss: 0.0039 - val_accuracy: 1.0000 - val_recall: 1.0000 - val_precision: 1.0000 - val_auc: 0.0000e+00 - lr: 1.8000e-05\n",
            "\n",
            "Epoch 00003: LearningRateScheduler setting learning rate to 2.6000000000000002e-05.\n",
            "Epoch 3/30\n",
            "410/410 [==============================] - 309s 754ms/step - loss: 0.0921 - accuracy: 0.9732 - recall: 0.9739 - precision: 0.9715 - auc: 0.9955 - val_loss: 8.6053e-04 - val_accuracy: 1.0000 - val_recall: 1.0000 - val_precision: 1.0000 - val_auc: 0.0000e+00 - lr: 2.6000e-05\n",
            "\n",
            "Epoch 00004: LearningRateScheduler setting learning rate to 3.4000000000000007e-05.\n",
            "Epoch 4/30\n",
            "410/410 [==============================] - 311s 759ms/step - loss: 0.0247 - accuracy: 0.9909 - recall: 0.9926 - precision: 0.9890 - auc: 0.9998 - val_loss: 4.0295e-04 - val_accuracy: 1.0000 - val_recall: 1.0000 - val_precision: 1.0000 - val_auc: 0.0000e+00 - lr: 3.4000e-05\n",
            "\n",
            "Epoch 00005: LearningRateScheduler setting learning rate to 4.2000000000000004e-05.\n",
            "Epoch 5/30\n",
            "410/410 [==============================] - 314s 766ms/step - loss: 0.0181 - accuracy: 0.9939 - recall: 0.9938 - precision: 0.9938 - auc: 0.9998 - val_loss: 0.0062 - val_accuracy: 0.9952 - val_recall: 0.9952 - val_precision: 1.0000 - val_auc: 0.0000e+00 - lr: 4.2000e-05\n",
            "\n",
            "Epoch 00006: LearningRateScheduler setting learning rate to 5e-05.\n",
            "Epoch 6/30\n",
            "410/410 [==============================] - 314s 765ms/step - loss: 0.0098 - accuracy: 0.9982 - recall: 0.9975 - precision: 0.9988 - auc: 0.9999 - val_loss: 6.8566e-05 - val_accuracy: 1.0000 - val_recall: 1.0000 - val_precision: 1.0000 - val_auc: 0.0000e+00 - lr: 5.0000e-05\n",
            "\n",
            "Epoch 00007: LearningRateScheduler setting learning rate to 4.2000000000000004e-05.\n",
            "Epoch 7/30\n",
            "410/410 [==============================] - 314s 766ms/step - loss: 0.0088 - accuracy: 0.9970 - recall: 0.9975 - precision: 0.9963 - auc: 0.9999 - val_loss: 5.1228e-04 - val_accuracy: 1.0000 - val_recall: 1.0000 - val_precision: 1.0000 - val_auc: 0.0000e+00 - lr: 4.2000e-05\n",
            "\n",
            "Epoch 00008: LearningRateScheduler setting learning rate to 3.5600000000000005e-05.\n",
            "Epoch 8/30\n",
            "410/410 [==============================] - 314s 766ms/step - loss: 0.0050 - accuracy: 0.9988 - recall: 1.0000 - precision: 0.9976 - auc: 1.0000 - val_loss: 6.9104e-05 - val_accuracy: 1.0000 - val_recall: 1.0000 - val_precision: 1.0000 - val_auc: 0.0000e+00 - lr: 3.5600e-05\n",
            "\n",
            "Epoch 00009: LearningRateScheduler setting learning rate to 3.0480000000000006e-05.\n",
            "Epoch 9/30\n",
            "410/410 [==============================] - 313s 763ms/step - loss: 0.0072 - accuracy: 0.9970 - recall: 0.9963 - precision: 0.9976 - auc: 1.0000 - val_loss: 5.5818e-04 - val_accuracy: 1.0000 - val_recall: 1.0000 - val_precision: 1.0000 - val_auc: 0.0000e+00 - lr: 3.0480e-05\n",
            "\n",
            "Epoch 00010: LearningRateScheduler setting learning rate to 2.6384000000000004e-05.\n",
            "Epoch 10/30\n",
            "410/410 [==============================] - 315s 768ms/step - loss: 8.6371e-04 - accuracy: 1.0000 - recall: 1.0000 - precision: 1.0000 - auc: 1.0000 - val_loss: 2.7664e-04 - val_accuracy: 1.0000 - val_recall: 1.0000 - val_precision: 1.0000 - val_auc: 0.0000e+00 - lr: 2.6384e-05\n",
            "\n",
            "Epoch 00011: LearningRateScheduler setting learning rate to 2.3107200000000005e-05.\n",
            "Epoch 11/30\n",
            "410/410 [==============================] - 315s 769ms/step - loss: 9.0022e-04 - accuracy: 1.0000 - recall: 1.0000 - precision: 1.0000 - auc: 1.0000 - val_loss: 1.5511e-04 - val_accuracy: 1.0000 - val_recall: 1.0000 - val_precision: 1.0000 - val_auc: 0.0000e+00 - lr: 2.3107e-05\n",
            "\n",
            "Epoch 00012: LearningRateScheduler setting learning rate to 2.0485760000000004e-05.\n",
            "Epoch 12/30\n",
            "410/410 [==============================] - 311s 758ms/step - loss: 0.0044 - accuracy: 0.9988 - recall: 1.0000 - precision: 0.9975 - auc: 1.0000 - val_loss: 2.7277e-04 - val_accuracy: 1.0000 - val_recall: 1.0000 - val_precision: 1.0000 - val_auc: 0.0000e+00 - lr: 2.0486e-05\n",
            "\n",
            "Epoch 00013: LearningRateScheduler setting learning rate to 1.8388608000000004e-05.\n",
            "Epoch 13/30\n",
            "410/410 [==============================] - 308s 751ms/step - loss: 8.6852e-04 - accuracy: 1.0000 - recall: 1.0000 - precision: 1.0000 - auc: 1.0000 - val_loss: 4.9927e-05 - val_accuracy: 1.0000 - val_recall: 1.0000 - val_precision: 1.0000 - val_auc: 0.0000e+00 - lr: 1.8389e-05\n",
            "\n",
            "Epoch 00014: LearningRateScheduler setting learning rate to 1.6710886400000004e-05.\n",
            "Epoch 14/30\n",
            "410/410 [==============================] - 308s 752ms/step - loss: 0.0014 - accuracy: 0.9994 - recall: 1.0000 - precision: 0.9988 - auc: 1.0000 - val_loss: 7.7706e-05 - val_accuracy: 1.0000 - val_recall: 1.0000 - val_precision: 1.0000 - val_auc: 0.0000e+00 - lr: 1.6711e-05\n",
            "\n",
            "Epoch 00015: LearningRateScheduler setting learning rate to 1.5368709120000003e-05.\n",
            "Epoch 15/30\n",
            "410/410 [==============================] - 310s 755ms/step - loss: 2.8848e-04 - accuracy: 1.0000 - recall: 1.0000 - precision: 1.0000 - auc: 1.0000 - val_loss: 3.9970e-05 - val_accuracy: 1.0000 - val_recall: 1.0000 - val_precision: 1.0000 - val_auc: 0.0000e+00 - lr: 1.5369e-05\n",
            "\n",
            "Epoch 00016: LearningRateScheduler setting learning rate to 1.4294967296000005e-05.\n",
            "Epoch 16/30\n",
            "410/410 [==============================] - 309s 754ms/step - loss: 2.3552e-04 - accuracy: 1.0000 - recall: 1.0000 - precision: 1.0000 - auc: 1.0000 - val_loss: 4.3995e-05 - val_accuracy: 1.0000 - val_recall: 1.0000 - val_precision: 1.0000 - val_auc: 0.0000e+00 - lr: 1.4295e-05\n",
            "\n",
            "Epoch 00017: LearningRateScheduler setting learning rate to 1.3435973836800004e-05.\n",
            "Epoch 17/30\n",
            "410/410 [==============================] - 307s 749ms/step - loss: 0.0029 - accuracy: 0.9988 - recall: 0.9988 - precision: 0.9988 - auc: 1.0000 - val_loss: 3.6802e-04 - val_accuracy: 1.0000 - val_recall: 1.0000 - val_precision: 1.0000 - val_auc: 0.0000e+00 - lr: 1.3436e-05\n",
            "\n",
            "Epoch 00018: LearningRateScheduler setting learning rate to 1.2748779069440003e-05.\n",
            "Epoch 18/30\n",
            "410/410 [==============================] - 308s 751ms/step - loss: 2.3512e-04 - accuracy: 1.0000 - recall: 1.0000 - precision: 1.0000 - auc: 1.0000 - val_loss: 1.1517e-04 - val_accuracy: 1.0000 - val_recall: 1.0000 - val_precision: 1.0000 - val_auc: 0.0000e+00 - lr: 1.2749e-05\n",
            "\n",
            "Epoch 00019: LearningRateScheduler setting learning rate to 1.2199023255552003e-05.\n",
            "Epoch 19/30\n",
            "410/410 [==============================] - 310s 756ms/step - loss: 3.5439e-04 - accuracy: 1.0000 - recall: 1.0000 - precision: 1.0000 - auc: 1.0000 - val_loss: 6.7404e-05 - val_accuracy: 1.0000 - val_recall: 1.0000 - val_precision: 1.0000 - val_auc: 0.0000e+00 - lr: 1.2199e-05\n",
            "\n",
            "Epoch 00020: LearningRateScheduler setting learning rate to 1.1759218604441602e-05.\n",
            "Epoch 20/30\n",
            "410/410 [==============================] - 310s 756ms/step - loss: 9.0013e-05 - accuracy: 1.0000 - recall: 1.0000 - precision: 1.0000 - auc: 1.0000 - val_loss: 6.5499e-05 - val_accuracy: 1.0000 - val_recall: 1.0000 - val_precision: 1.0000 - val_auc: 0.0000e+00 - lr: 1.1759e-05\n",
            "\n",
            "Epoch 00021: LearningRateScheduler setting learning rate to 1.1407374883553282e-05.\n",
            "Epoch 21/30\n",
            "410/410 [==============================] - 310s 757ms/step - loss: 2.3897e-04 - accuracy: 1.0000 - recall: 1.0000 - precision: 1.0000 - auc: 1.0000 - val_loss: 1.2627e-05 - val_accuracy: 1.0000 - val_recall: 1.0000 - val_precision: 1.0000 - val_auc: 0.0000e+00 - lr: 1.1407e-05\n",
            "\n",
            "Epoch 00022: LearningRateScheduler setting learning rate to 1.1125899906842627e-05.\n",
            "Epoch 22/30\n",
            "410/410 [==============================] - 308s 751ms/step - loss: 1.5343e-04 - accuracy: 1.0000 - recall: 1.0000 - precision: 1.0000 - auc: 1.0000 - val_loss: 1.1272e-05 - val_accuracy: 1.0000 - val_recall: 1.0000 - val_precision: 1.0000 - val_auc: 0.0000e+00 - lr: 1.1126e-05\n",
            "\n",
            "Epoch 00023: LearningRateScheduler setting learning rate to 1.0900719925474101e-05.\n",
            "Epoch 23/30\n",
            "410/410 [==============================] - 308s 752ms/step - loss: 0.0024 - accuracy: 0.9994 - recall: 0.9988 - precision: 1.0000 - auc: 1.0000 - val_loss: 2.2529e-04 - val_accuracy: 1.0000 - val_recall: 1.0000 - val_precision: 1.0000 - val_auc: 0.0000e+00 - lr: 1.0901e-05\n",
            "\n",
            "Epoch 00024: LearningRateScheduler setting learning rate to 1.0720575940379282e-05.\n",
            "Epoch 24/30\n",
            "410/410 [==============================] - 308s 751ms/step - loss: 7.9418e-05 - accuracy: 1.0000 - recall: 1.0000 - precision: 1.0000 - auc: 1.0000 - val_loss: 1.2051e-04 - val_accuracy: 1.0000 - val_recall: 1.0000 - val_precision: 1.0000 - val_auc: 0.0000e+00 - lr: 1.0721e-05\n",
            "\n",
            "Epoch 00025: LearningRateScheduler setting learning rate to 1.0576460752303425e-05.\n",
            "Epoch 25/30\n",
            "410/410 [==============================] - 309s 753ms/step - loss: 5.3399e-05 - accuracy: 1.0000 - recall: 1.0000 - precision: 1.0000 - auc: 1.0000 - val_loss: 7.2292e-05 - val_accuracy: 1.0000 - val_recall: 1.0000 - val_precision: 1.0000 - val_auc: 0.0000e+00 - lr: 1.0576e-05\n",
            "\n",
            "Epoch 00026: LearningRateScheduler setting learning rate to 1.046116860184274e-05.\n",
            "Epoch 26/30\n",
            "410/410 [==============================] - 306s 747ms/step - loss: 6.1119e-04 - accuracy: 0.9994 - recall: 1.0000 - precision: 0.9988 - auc: 1.0000 - val_loss: 5.8870e-05 - val_accuracy: 1.0000 - val_recall: 1.0000 - val_precision: 1.0000 - val_auc: 0.0000e+00 - lr: 1.0461e-05\n",
            "\n",
            "Epoch 00027: LearningRateScheduler setting learning rate to 1.0368934881474192e-05.\n",
            "Epoch 27/30\n",
            "410/410 [==============================] - 306s 748ms/step - loss: 9.4466e-05 - accuracy: 1.0000 - recall: 1.0000 - precision: 1.0000 - auc: 1.0000 - val_loss: 2.6699e-05 - val_accuracy: 1.0000 - val_recall: 1.0000 - val_precision: 1.0000 - val_auc: 0.0000e+00 - lr: 1.0369e-05\n",
            "\n",
            "Epoch 00028: LearningRateScheduler setting learning rate to 1.0295147905179355e-05.\n",
            "Epoch 28/30\n",
            "410/410 [==============================] - 309s 754ms/step - loss: 4.0213e-05 - accuracy: 1.0000 - recall: 1.0000 - precision: 1.0000 - auc: 1.0000 - val_loss: 1.3636e-05 - val_accuracy: 1.0000 - val_recall: 1.0000 - val_precision: 1.0000 - val_auc: 0.0000e+00 - lr: 1.0295e-05\n",
            "\n",
            "Epoch 00029: LearningRateScheduler setting learning rate to 1.0236118324143484e-05.\n",
            "Epoch 29/30\n",
            "410/410 [==============================] - 307s 748ms/step - loss: 2.9137e-05 - accuracy: 1.0000 - recall: 1.0000 - precision: 1.0000 - auc: 1.0000 - val_loss: 8.6388e-06 - val_accuracy: 1.0000 - val_recall: 1.0000 - val_precision: 1.0000 - val_auc: 0.0000e+00 - lr: 1.0236e-05\n",
            "\n",
            "Epoch 00030: LearningRateScheduler setting learning rate to 1.0188894659314786e-05.\n",
            "Epoch 30/30\n",
            "410/410 [==============================] - 308s 752ms/step - loss: 2.7232e-04 - accuracy: 1.0000 - recall: 1.0000 - precision: 1.0000 - auc: 1.0000 - val_loss: 1.4137e-05 - val_accuracy: 1.0000 - val_recall: 1.0000 - val_precision: 1.0000 - val_auc: 0.0000e+00 - lr: 1.0189e-05\n"
          ]
        }
      ]
    },
    {
      "cell_type": "code",
      "metadata": {
        "id": "Cs9g7UtW6KEW",
        "colab": {
          "base_uri": "https://localhost:8080/"
        },
        "outputId": "65d0e68e-dec4-4db8-b63c-3af2d6536162"
      },
      "source": [
        "SRNXT101.summary()"
      ],
      "execution_count": null,
      "outputs": [
        {
          "output_type": "stream",
          "name": "stdout",
          "text": [
            "Model: \"model_1\"\n",
            "__________________________________________________________________________________________________\n",
            " Layer (type)                   Output Shape         Param #     Connected to                     \n",
            "==================================================================================================\n",
            " input_1 (InputLayer)           [(None, 224, 224, 3  0           []                               \n",
            "                                )]                                                                \n",
            "                                                                                                  \n",
            " model (Functional)             (None, 7, 7, 2048)   47044272    ['input_1[0][0]']                \n",
            "                                                                                                  \n",
            " batch_normalization_104 (Batch  (None, 7, 7, 2048)  8192        ['model[0][0]']                  \n",
            " Normalization)                                                                                   \n",
            "                                                                                                  \n",
            " dropout (Dropout)              (None, 7, 7, 2048)   0           ['batch_normalization_104[0][0]']\n",
            "                                                                                                  \n",
            " conv2d_1193 (Conv2D)           (None, 7, 7, 64)     131136      ['dropout[0][0]']                \n",
            "                                                                                                  \n",
            " conv2d_1194 (Conv2D)           (None, 7, 7, 16)     1040        ['conv2d_1193[0][0]']            \n",
            "                                                                                                  \n",
            " conv2d_1195 (Conv2D)           (None, 7, 7, 8)      136         ['conv2d_1194[0][0]']            \n",
            "                                                                                                  \n",
            " conv2d_1196 (Conv2D)           (None, 7, 7, 1)      9           ['conv2d_1195[0][0]']            \n",
            "                                                                                                  \n",
            " conv2d_1197 (Conv2D)           (None, 7, 7, 2048)   2048        ['conv2d_1196[0][0]']            \n",
            "                                                                                                  \n",
            " multiply_33 (Multiply)         (None, 7, 7, 2048)   0           ['conv2d_1197[0][0]',            \n",
            "                                                                  'batch_normalization_104[0][0]']\n",
            "                                                                                                  \n",
            " global_average_pooling2d_33 (G  (None, 2048)        0           ['multiply_33[0][0]']            \n",
            " lobalAveragePooling2D)                                                                           \n",
            "                                                                                                  \n",
            " global_average_pooling2d_34 (G  (None, 2048)        0           ['conv2d_1197[0][0]']            \n",
            " lobalAveragePooling2D)                                                                           \n",
            "                                                                                                  \n",
            " RescaleGAP (Lambda)            (None, 2048)         0           ['global_average_pooling2d_33[0][\n",
            "                                                                 0]',                             \n",
            "                                                                  'global_average_pooling2d_34[0][\n",
            "                                                                 0]']                             \n",
            "                                                                                                  \n",
            " dropout_1 (Dropout)            (None, 2048)         0           ['RescaleGAP[0][0]']             \n",
            "                                                                                                  \n",
            " dense (Dense)                  (None, 128)          262272      ['dropout_1[0][0]']              \n",
            "                                                                                                  \n",
            " dropout_2 (Dropout)            (None, 128)          0           ['dense[0][0]']                  \n",
            "                                                                                                  \n",
            " dense_1 (Dense)                (None, 1)            129         ['dropout_2[0][0]']              \n",
            "                                                                                                  \n",
            "==================================================================================================\n",
            "Total params: 47,449,234\n",
            "Trainable params: 47,305,234\n",
            "Non-trainable params: 144,000\n",
            "__________________________________________________________________________________________________\n"
          ]
        }
      ]
    },
    {
      "cell_type": "code",
      "metadata": {
        "colab": {
          "base_uri": "https://localhost:8080/"
        },
        "id": "m9lhXMBOkNnl",
        "outputId": "ac795094-7cfb-42b2-d122-e3a070d89f46"
      },
      "source": [
        "h1.model"
      ],
      "execution_count": null,
      "outputs": [
        {
          "output_type": "execute_result",
          "data": {
            "text/plain": [
              "<keras.engine.functional.Functional at 0x7fee909c0a50>"
            ]
          },
          "metadata": {},
          "execution_count": 24
        }
      ]
    },
    {
      "cell_type": "code",
      "metadata": {
        "colab": {
          "base_uri": "https://localhost:8080/"
        },
        "id": "vfTrUcPrkSR4",
        "outputId": "1dc7af9b-8a4b-4240-a325-5b5c2bb48479"
      },
      "source": [
        "# save model\n",
        "#path ='/content/drive/MyDrive/data/dataset/SRNXT101.h5'\n",
        "SRNXT101.save('SRNXT101.h5')\n",
        "print('Model Saved!')"
      ],
      "execution_count": null,
      "outputs": [
        {
          "output_type": "stream",
          "name": "stderr",
          "text": [
            "/usr/local/lib/python3.7/dist-packages/keras/engine/functional.py:1410: CustomMaskWarning: Custom mask layers require a config and must override get_config. When loading, the custom mask layer must be passed to the custom_objects argument.\n",
            "  layer_config = serialize_layer_fn(layer)\n"
          ]
        },
        {
          "output_type": "stream",
          "name": "stdout",
          "text": [
            "Model Saved!\n"
          ]
        }
      ]
    },
    {
      "cell_type": "code",
      "metadata": {
        "id": "08fZvZsBlFN5"
      },
      "source": [
        "# load model\n",
        "savedModel=load_model('gfgModel.h5')\n",
        "savedModel.summary()"
      ],
      "execution_count": null,
      "outputs": []
    },
    {
      "cell_type": "code",
      "source": [
        "# load model\n",
        "savedModel=load_model('/content/drive/MyDrive/pretrained_models/SRNXT101.h5')\n",
        "savedModel.summary()"
      ],
      "metadata": {
        "colab": {
          "base_uri": "https://localhost:8080/"
        },
        "id": "GZfxkGjxFuiS",
        "outputId": "e7616327-bc05-400c-8641-b497b5b62799"
      },
      "execution_count": null,
      "outputs": [
        {
          "output_type": "stream",
          "name": "stdout",
          "text": [
            "Model: \"model_1\"\n",
            "__________________________________________________________________________________________________\n",
            " Layer (type)                   Output Shape         Param #     Connected to                     \n",
            "==================================================================================================\n",
            " input_1 (InputLayer)           [(None, 224, 224, 3  0           []                               \n",
            "                                )]                                                                \n",
            "                                                                                                  \n",
            " model (Functional)             (None, 7, 7, 2048)   47044272    ['input_1[0][0]']                \n",
            "                                                                                                  \n",
            " batch_normalization_104 (Batch  (None, 7, 7, 2048)  8192        ['model[0][0]']                  \n",
            " Normalization)                                                                                   \n",
            "                                                                                                  \n",
            " dropout (Dropout)              (None, 7, 7, 2048)   0           ['batch_normalization_104[0][0]']\n",
            "                                                                                                  \n",
            " conv2d_1193 (Conv2D)           (None, 7, 7, 64)     131136      ['dropout[0][0]']                \n",
            "                                                                                                  \n",
            " conv2d_1194 (Conv2D)           (None, 7, 7, 16)     1040        ['conv2d_1193[0][0]']            \n",
            "                                                                                                  \n",
            " conv2d_1195 (Conv2D)           (None, 7, 7, 8)      136         ['conv2d_1194[0][0]']            \n",
            "                                                                                                  \n",
            " conv2d_1196 (Conv2D)           (None, 7, 7, 1)      9           ['conv2d_1195[0][0]']            \n",
            "                                                                                                  \n",
            " conv2d_1197 (Conv2D)           (None, 7, 7, 2048)   2048        ['conv2d_1196[0][0]']            \n",
            "                                                                                                  \n",
            " multiply_33 (Multiply)         (None, 7, 7, 2048)   0           ['conv2d_1197[0][0]',            \n",
            "                                                                  'batch_normalization_104[0][0]']\n",
            "                                                                                                  \n",
            " global_average_pooling2d_33 (G  (None, 2048)        0           ['multiply_33[0][0]']            \n",
            " lobalAveragePooling2D)                                                                           \n",
            "                                                                                                  \n",
            " global_average_pooling2d_34 (G  (None, 2048)        0           ['conv2d_1197[0][0]']            \n",
            " lobalAveragePooling2D)                                                                           \n",
            "                                                                                                  \n",
            " RescaleGAP (Lambda)            (None, 2048)         0           ['global_average_pooling2d_33[0][\n",
            "                                                                 0]',                             \n",
            "                                                                  'global_average_pooling2d_34[0][\n",
            "                                                                 0]']                             \n",
            "                                                                                                  \n",
            " dropout_1 (Dropout)            (None, 2048)         0           ['RescaleGAP[0][0]']             \n",
            "                                                                                                  \n",
            " dense (Dense)                  (None, 128)          262272      ['dropout_1[0][0]']              \n",
            "                                                                                                  \n",
            " dropout_2 (Dropout)            (None, 128)          0           ['dense[0][0]']                  \n",
            "                                                                                                  \n",
            " dense_1 (Dense)                (None, 1)            129         ['dropout_2[0][0]']              \n",
            "                                                                                                  \n",
            "==================================================================================================\n",
            "Total params: 47,449,234\n",
            "Trainable params: 47,305,234\n",
            "Non-trainable params: 144,000\n",
            "__________________________________________________________________________________________________\n"
          ]
        }
      ]
    },
    {
      "cell_type": "markdown",
      "metadata": {
        "id": "V9Q_W-UtllV0"
      },
      "source": [
        "## Affichage des courbes "
      ]
    },
    {
      "cell_type": "code",
      "metadata": {
        "colab": {
          "base_uri": "https://localhost:8080/"
        },
        "id": "Vwyt0PJSmGpg",
        "outputId": "a244b30b-3098-475a-9051-737104898e5d"
      },
      "source": [
        "print(h1.history.keys())\n"
      ],
      "execution_count": null,
      "outputs": [
        {
          "output_type": "stream",
          "name": "stdout",
          "text": [
            "dict_keys(['loss', 'accuracy', 'recall', 'precision', 'auc', 'val_loss', 'val_accuracy', 'val_recall', 'val_precision', 'val_auc', 'lr'])\n"
          ]
        }
      ]
    },
    {
      "cell_type": "code",
      "metadata": {
        "colab": {
          "base_uri": "https://localhost:8080/",
          "height": 382
        },
        "id": "GQUk4WCbmVEn",
        "outputId": "7c3d68ec-cd12-431d-d5b9-a2d28d975b1a"
      },
      "source": [
        "import seaborn as sns\n",
        "sns.set()\n",
        "fig = plt.figure(0, (12, 4))\n",
        "\n",
        "ax = plt.subplot(1, 2, 1)\n",
        "sns.lineplot(h1.epoch,h1.history['val_accuracy'], label = 'val')\n",
        "plt.title('val_Accuracy')\n",
        "plt.tight_layout()\n",
        "\n",
        "ax = plt.subplot(1, 2, 2)\n",
        "sns.lineplot(h1.epoch,h1.history['val_loss'], label = 'val')\n",
        "plt.title('val_Loss')\n",
        "plt.tight_layout()\n",
        "plt.show()"
      ],
      "execution_count": null,
      "outputs": [
        {
          "output_type": "stream",
          "name": "stderr",
          "text": [
            "/usr/local/lib/python3.7/dist-packages/seaborn/_decorators.py:43: FutureWarning: Pass the following variables as keyword args: x, y. From version 0.12, the only valid positional argument will be `data`, and passing other arguments without an explicit keyword will result in an error or misinterpretation.\n",
            "  FutureWarning\n",
            "/usr/local/lib/python3.7/dist-packages/seaborn/_decorators.py:43: FutureWarning: Pass the following variables as keyword args: x, y. From version 0.12, the only valid positional argument will be `data`, and passing other arguments without an explicit keyword will result in an error or misinterpretation.\n",
            "  FutureWarning\n"
          ]
        },
        {
          "output_type": "display_data",
          "data": {
            "image/png": "[encoded data removed]",
            "text/plain": [
              "<Figure size 864x288 with 2 Axes>"
            ]
          },
          "metadata": {}
        }
      ]
    },
    {
      "cell_type": "code",
      "metadata": {
        "colab": {
          "base_uri": "https://localhost:8080/",
          "height": 382
        },
        "id": "UksgcqNnlVg3",
        "outputId": "2084ad26-2d48-4558-ce4c-6c264e0cf353"
      },
      "source": [
        "import seaborn as sns\n",
        "sns.set()\n",
        "fig = plt.figure(0, (12, 4))\n",
        "\n",
        "ax = plt.subplot(1, 2, 1)\n",
        "sns.lineplot(h1.epoch,h1.history['accuracy'], label = 'train')\n",
        "plt.title('Accuracy')\n",
        "plt.tight_layout()\n",
        "\n",
        "ax = plt.subplot(1, 2, 2)\n",
        "sns.lineplot(h1.epoch,h1.history['loss'], label = 'train')\n",
        "plt.title('Loss')\n",
        "plt.tight_layout()\n",
        "plt.show()"
      ],
      "execution_count": null,
      "outputs": [
        {
          "output_type": "stream",
          "name": "stderr",
          "text": [
            "/usr/local/lib/python3.7/dist-packages/seaborn/_decorators.py:43: FutureWarning: Pass the following variables as keyword args: x, y. From version 0.12, the only valid positional argument will be `data`, and passing other arguments without an explicit keyword will result in an error or misinterpretation.\n",
            "  FutureWarning\n",
            "/usr/local/lib/python3.7/dist-packages/seaborn/_decorators.py:43: FutureWarning: Pass the following variables as keyword args: x, y. From version 0.12, the only valid positional argument will be `data`, and passing other arguments without an explicit keyword will result in an error or misinterpretation.\n",
            "  FutureWarning\n"
          ]
        },
        {
          "output_type": "display_data",
          "data": {
            "image/png": "[encoded data removed]",
            "text/plain": [
              "<Figure size 864x288 with 2 Axes>"
            ]
          },
          "metadata": {}
        }
      ]
    },
    {
      "cell_type": "code",
      "metadata": {
        "colab": {
          "base_uri": "https://localhost:8080/"
        },
        "id": "T-rj8K5bmIF9",
        "outputId": "4999850f-f611-4cd3-b314-b505b56491ee"
      },
      "source": [
        "SRNXT101.evaluate(test_dataset)"
      ],
      "execution_count": null,
      "outputs": [
        {
          "output_type": "stream",
          "name": "stdout",
          "text": [
            "52/52 [==============================] - 27s 495ms/step - loss: 3.0092e-06 - accuracy: 1.0000 - recall: 1.0000 - precision: 1.0000 - auc: 1.0000\n"
          ]
        },
        {
          "output_type": "execute_result",
          "data": {
            "text/plain": [
              "[3.009247393492842e-06, 1.0, 1.0, 1.0, 1.0]"
            ]
          },
          "metadata": {},
          "execution_count": 32
        }
      ]
    },
    {
      "cell_type": "code",
      "metadata": {
        "colab": {
          "base_uri": "https://localhost:8080/",
          "height": 236
        },
        "id": "ICgwoi16mx0S",
        "outputId": "356e5505-d9b3-446c-fd04-67939b388346"
      },
      "source": [
        "from sklearn.metrics import confusion_matrix,classification_report\n",
        "classes=['PTE','PDHE']\n",
        "Y_pred = SRNXT101.predict(test_dataset)\n",
        "true_classes = df_test.label.values\n",
        "print('Confusion Matrix')\n",
        "cm=confusion_matrix(true_classes,y_pred)\n",
        "cm"
      ],
      "execution_count": null,
      "outputs": [
        {
          "output_type": "error",
          "ename": "NameError",
          "evalue": "ignored",
          "traceback": [
            "\u001b[0;31m---------------------------------------------------------------------------\u001b[0m",
            "\u001b[0;31mNameError\u001b[0m                                 Traceback (most recent call last)",
            "\u001b[0;32m<ipython-input-36-8bd20a032d9c>\u001b[0m in \u001b[0;36m<module>\u001b[0;34m()\u001b[0m\n\u001b[1;32m      1\u001b[0m \u001b[0;32mfrom\u001b[0m \u001b[0msklearn\u001b[0m\u001b[0;34m.\u001b[0m\u001b[0mmetrics\u001b[0m \u001b[0;32mimport\u001b[0m \u001b[0mconfusion_matrix\u001b[0m\u001b[0;34m,\u001b[0m\u001b[0mclassification_report\u001b[0m\u001b[0;34m\u001b[0m\u001b[0;34m\u001b[0m\u001b[0m\n\u001b[1;32m      2\u001b[0m \u001b[0mclasses\u001b[0m\u001b[0;34m=\u001b[0m\u001b[0;34m[\u001b[0m\u001b[0;34m'PTE'\u001b[0m\u001b[0;34m,\u001b[0m\u001b[0;34m'PDHE'\u001b[0m\u001b[0;34m]\u001b[0m\u001b[0;34m\u001b[0m\u001b[0;34m\u001b[0m\u001b[0m\n\u001b[0;32m----> 3\u001b[0;31m \u001b[0mY_pred\u001b[0m \u001b[0;34m=\u001b[0m \u001b[0mSRNXT101\u001b[0m\u001b[0;34m.\u001b[0m\u001b[0mpredict\u001b[0m\u001b[0;34m(\u001b[0m\u001b[0mtest_dataset\u001b[0m\u001b[0;34m)\u001b[0m\u001b[0;34m\u001b[0m\u001b[0;34m\u001b[0m\u001b[0m\n\u001b[0m\u001b[1;32m      4\u001b[0m \u001b[0mtrue_classes\u001b[0m \u001b[0;34m=\u001b[0m \u001b[0mdf_test\u001b[0m\u001b[0;34m.\u001b[0m\u001b[0mlabel\u001b[0m\u001b[0;34m.\u001b[0m\u001b[0mvalues\u001b[0m\u001b[0;34m\u001b[0m\u001b[0;34m\u001b[0m\u001b[0m\n\u001b[1;32m      5\u001b[0m \u001b[0mprint\u001b[0m\u001b[0;34m(\u001b[0m\u001b[0;34m'Confusion Matrix'\u001b[0m\u001b[0;34m)\u001b[0m\u001b[0;34m\u001b[0m\u001b[0;34m\u001b[0m\u001b[0m\n",
            "\u001b[0;31mNameError\u001b[0m: name 'SRNXT101' is not defined"
          ]
        }
      ]
    },
    {
      "cell_type": "code",
      "source": [
        "from sklearn.metrics import confusion_matrix,classification_report\n",
        "classes=['PTE','PDHE']\n",
        "Y_pred = savedModel.predict(test_dataset)\n",
        "true_classes = df_test.label.values\n",
        "print('Confusion Matrix')\n",
        "y_pred=np.round(Y_pred)\n",
        "cm2=confusion_matrix(true_classes,y_pred)\n",
        "cm2"
      ],
      "metadata": {
        "colab": {
          "base_uri": "https://localhost:8080/"
        },
        "id": "7wArI0ulHSNj",
        "outputId": "adb59e8a-8505-4f41-82e3-3ebbf19b7e6d"
      },
      "execution_count": null,
      "outputs": [
        {
          "output_type": "stream",
          "name": "stdout",
          "text": [
            "Confusion Matrix\n"
          ]
        },
        {
          "output_type": "execute_result",
          "data": {
            "text/plain": [
              "array([[104,   0],\n",
              "       [  0, 102]])"
            ]
          },
          "metadata": {},
          "execution_count": 25
        }
      ]
    },
    {
      "cell_type": "code",
      "source": [
        "from sklearn.metrics import confusion_matrix,classification_report\n",
        "classes=['PTE','PDHE']\n",
        "Y_pred = SRNXT101.predict(test_dataset)\n",
        "true_classes = df_test.label.values\n",
        "print('Confusion Matrix')\n",
        "y_pred=np.round(Y_pred)\n",
        "cm2=confusion_matrix(true_classes,y_pred)\n",
        "cm2"
      ],
      "metadata": {
        "colab": {
          "base_uri": "https://localhost:8080/"
        },
        "id": "WSqK4ltvEaph",
        "outputId": "b11628fa-c39f-428d-bfb8-1294d2efeeec"
      },
      "execution_count": null,
      "outputs": [
        {
          "output_type": "stream",
          "name": "stdout",
          "text": [
            "Confusion Matrix\n"
          ]
        },
        {
          "output_type": "execute_result",
          "data": {
            "text/plain": [
              "array([[82, 22],\n",
              "       [65, 37]])"
            ]
          },
          "metadata": {},
          "execution_count": 22
        }
      ]
    },
    {
      "cell_type": "code",
      "source": [
        "plot_confusion_matrix(cm2,classes)"
      ],
      "metadata": {
        "colab": {
          "base_uri": "https://localhost:8080/",
          "height": 459
        },
        "id": "8hpQQuqoHq2t",
        "outputId": "5fc15d63-590c-42ab-8466-64a0e9e212f0"
      },
      "execution_count": null,
      "outputs": [
        {
          "output_type": "stream",
          "name": "stdout",
          "text": [
            "Confusion matrix, without normalization\n"
          ]
        },
        {
          "output_type": "display_data",
          "data": {
            "image/png": "[encoded data removed]",
            "text/plain": [
              "<Figure size 432x432 with 2 Axes>"
            ]
          },
          "metadata": {}
        }
      ]
    },
    {
      "cell_type": "code",
      "metadata": {
        "id": "peTRD2f6n1B1"
      },
      "source": [
        "ResNet18, preprocess_input = Classifiers.get('resnet18')\n",
        "model = ResNet18((224, 224, 3), weights='imagenet')"
      ],
      "execution_count": null,
      "outputs": []
    }
  ]
}